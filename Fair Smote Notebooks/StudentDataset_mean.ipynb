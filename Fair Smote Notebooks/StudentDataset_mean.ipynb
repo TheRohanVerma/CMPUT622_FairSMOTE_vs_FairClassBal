{
  "cells": [
    {
      "cell_type": "markdown",
      "metadata": {
        "id": "BW-iuV1i91WR"
      },
      "source": [
        "# Loading and Pre-processing Student Performance dataset"
      ]
    },
    {
      "cell_type": "code",
      "execution_count": null,
      "metadata": {
        "colab": {
          "base_uri": "https://localhost:8080/"
        },
        "id": "mS5x30JPQYYc",
        "outputId": "ab4a62ef-0969-4572-ab2e-7d704cd0fdb9"
      },
      "outputs": [
        {
          "name": "stdout",
          "output_type": "stream",
          "text": [
            "Mounted at /content/drive\n"
          ]
        }
      ],
      "source": [
        "from google.colab import drive\n",
        "drive.mount('/content/drive')"
      ]
    },
    {
      "cell_type": "code",
      "execution_count": null,
      "metadata": {
        "colab": {
          "base_uri": "https://localhost:8080/"
        },
        "id": "l5k5VQa6VtvQ",
        "outputId": "72145b9d-649a-43c8-a995-eced8c1aa55d"
      },
      "outputs": [
        {
          "name": "stdout",
          "output_type": "stream",
          "text": [
            "Collecting fairlearn\n",
            "  Downloading fairlearn-0.7.0-py3-none-any.whl (177 kB)\n",
            "\u001b[?25l\r\u001b[K     |█▉                              | 10 kB 25.4 MB/s eta 0:00:01\r\u001b[K     |███▊                            | 20 kB 29.8 MB/s eta 0:00:01\r\u001b[K     |█████▌                          | 30 kB 26.6 MB/s eta 0:00:01\r\u001b[K     |███████▍                        | 40 kB 20.4 MB/s eta 0:00:01\r\u001b[K     |█████████▎                      | 51 kB 16.6 MB/s eta 0:00:01\r\u001b[K     |███████████                     | 61 kB 11.7 MB/s eta 0:00:01\r\u001b[K     |█████████████                   | 71 kB 12.7 MB/s eta 0:00:01\r\u001b[K     |██████████████▊                 | 81 kB 13.9 MB/s eta 0:00:01\r\u001b[K     |████████████████▋               | 92 kB 15.1 MB/s eta 0:00:01\r\u001b[K     |██████████████████▌             | 102 kB 14.2 MB/s eta 0:00:01\r\u001b[K     |████████████████████▎           | 112 kB 14.2 MB/s eta 0:00:01\r\u001b[K     |██████████████████████▏         | 122 kB 14.2 MB/s eta 0:00:01\r\u001b[K     |████████████████████████        | 133 kB 14.2 MB/s eta 0:00:01\r\u001b[K     |█████████████████████████▉      | 143 kB 14.2 MB/s eta 0:00:01\r\u001b[K     |███████████████████████████▊    | 153 kB 14.2 MB/s eta 0:00:01\r\u001b[K     |█████████████████████████████▌  | 163 kB 14.2 MB/s eta 0:00:01\r\u001b[K     |███████████████████████████████▍| 174 kB 14.2 MB/s eta 0:00:01\r\u001b[K     |████████████████████████████████| 177 kB 14.2 MB/s \n",
            "\u001b[?25hRequirement already satisfied: scikit-learn>=0.22.1 in /usr/local/lib/python3.7/dist-packages (from fairlearn) (1.0.1)\n",
            "Requirement already satisfied: scipy>=1.4.1 in /usr/local/lib/python3.7/dist-packages (from fairlearn) (1.4.1)\n",
            "Requirement already satisfied: pandas>=0.25.1 in /usr/local/lib/python3.7/dist-packages (from fairlearn) (1.1.5)\n",
            "Requirement already satisfied: numpy>=1.17.2 in /usr/local/lib/python3.7/dist-packages (from fairlearn) (1.19.5)\n",
            "Requirement already satisfied: pytz>=2017.2 in /usr/local/lib/python3.7/dist-packages (from pandas>=0.25.1->fairlearn) (2018.9)\n",
            "Requirement already satisfied: python-dateutil>=2.7.3 in /usr/local/lib/python3.7/dist-packages (from pandas>=0.25.1->fairlearn) (2.8.2)\n",
            "Requirement already satisfied: six>=1.5 in /usr/local/lib/python3.7/dist-packages (from python-dateutil>=2.7.3->pandas>=0.25.1->fairlearn) (1.15.0)\n",
            "Requirement already satisfied: threadpoolctl>=2.0.0 in /usr/local/lib/python3.7/dist-packages (from scikit-learn>=0.22.1->fairlearn) (3.0.0)\n",
            "Requirement already satisfied: joblib>=0.11 in /usr/local/lib/python3.7/dist-packages (from scikit-learn>=0.22.1->fairlearn) (1.1.0)\n",
            "Installing collected packages: fairlearn\n",
            "Successfully installed fairlearn-0.7.0\n"
          ]
        }
      ],
      "source": [
        "import random,time,csv\n",
        "import math,copy,os\n",
        "from sklearn.preprocessing import MinMaxScaler\n",
        "from sklearn.tree import DecisionTreeRegressor\n",
        "from sklearn.model_selection import train_test_split\n",
        "from sklearn import tree\n",
        "from sklearn.naive_bayes import GaussianNB\n",
        "from sklearn.ensemble import RandomForestClassifier\n",
        "import sklearn.metrics as metrics\n",
        "import six.moves.urllib as urllib\n",
        "from google.protobuf import text_format\n",
        "from sklearn import preprocessing\n",
        "import tensorflow as tf\n",
        "tf.compat.v1.enable_v2_behavior()\n",
        "! pip install fairlearn\n",
        "import random\n",
        "import random,time,csv\n",
        "import math,copy,os\n",
        "from sklearn.linear_model import LogisticRegression\n",
        "from sklearn.tree import DecisionTreeRegressor\n",
        "from sklearn.model_selection import train_test_split\n",
        "from sklearn.metrics import classification_report, confusion_matrix, accuracy_score\n",
        "from sklearn import tree\n",
        "from sklearn.svm import SVC\n",
        "import os\n",
        "import tempfile\n",
        "import pandas as pd\n",
        "import six.moves.urllib as urllib\n",
        "import pprint\n",
        "from pandas import read_csv\n",
        "import matplotlib.pyplot as plt\n",
        "from sklearn.cluster import KMeans\n",
        "from sklearn import preprocessing\n",
        "from sklearn.linear_model import LinearRegression\n",
        "from google.colab import files\n",
        "from fairlearn.reductions import BoundedGroupLoss, ZeroOneLoss\n",
        "from sklearn.metrics import mean_absolute_error\n",
        "import matplotlib.pyplot as plt\n",
        "import numpy as np\n",
        "from sklearn import linear_model\n",
        "from sklearn.metrics import mean_squared_error, r2_score\n",
        "from sklearn.model_selection import train_test_split\n",
        "from fairlearn.metrics import MetricFrame, selection_rate\n",
        "from sklearn.preprocessing import MinMaxScaler\n",
        "import sys\n",
        "sys.path.insert(1, '/content/drive/Shareddrives/622 - Privacy/Project Codebase/Fair-SMOTE-master/')\n",
        "from Measure import measure_final_score,calculate_recall,calculate_far,calculate_precision,calculate_accuracy\n",
        "from Generate_Samples import generate_samples"
      ]
    },
    {
      "cell_type": "code",
      "execution_count": null,
      "metadata": {
        "colab": {
          "base_uri": "https://localhost:8080/",
          "height": 143
        },
        "id": "WkL8oiK0Vz0O",
        "outputId": "2d0f33ac-8557-44a8-f0ec-c861daedbc1c"
      },
      "outputs": [
        {
          "data": {
            "text/html": [
              "<div>\n",
              "<style scoped>\n",
              "    .dataframe tbody tr th:only-of-type {\n",
              "        vertical-align: middle;\n",
              "    }\n",
              "\n",
              "    .dataframe tbody tr th {\n",
              "        vertical-align: top;\n",
              "    }\n",
              "\n",
              "    .dataframe thead th {\n",
              "        text-align: right;\n",
              "    }\n",
              "</style>\n",
              "<table border=\"1\" class=\"dataframe\">\n",
              "  <thead>\n",
              "    <tr style=\"text-align: right;\">\n",
              "      <th></th>\n",
              "      <th>isMale</th>\n",
              "      <th>urban_resident</th>\n",
              "      <th>studytime</th>\n",
              "      <th>failures</th>\n",
              "      <th>activities</th>\n",
              "      <th>nursery</th>\n",
              "      <th>higher</th>\n",
              "      <th>internet</th>\n",
              "      <th>romantic</th>\n",
              "      <th>freetime</th>\n",
              "      <th>goout</th>\n",
              "      <th>Dalc</th>\n",
              "      <th>Walc</th>\n",
              "      <th>health</th>\n",
              "      <th>absences</th>\n",
              "      <th>grade</th>\n",
              "    </tr>\n",
              "  </thead>\n",
              "  <tbody>\n",
              "    <tr>\n",
              "      <th>0</th>\n",
              "      <td>0</td>\n",
              "      <td>1</td>\n",
              "      <td>2</td>\n",
              "      <td>0</td>\n",
              "      <td>0</td>\n",
              "      <td>1</td>\n",
              "      <td>1</td>\n",
              "      <td>0</td>\n",
              "      <td>0</td>\n",
              "      <td>3</td>\n",
              "      <td>4</td>\n",
              "      <td>1</td>\n",
              "      <td>1</td>\n",
              "      <td>3</td>\n",
              "      <td>4</td>\n",
              "      <td>11</td>\n",
              "    </tr>\n",
              "    <tr>\n",
              "      <th>1</th>\n",
              "      <td>0</td>\n",
              "      <td>1</td>\n",
              "      <td>2</td>\n",
              "      <td>0</td>\n",
              "      <td>0</td>\n",
              "      <td>0</td>\n",
              "      <td>1</td>\n",
              "      <td>1</td>\n",
              "      <td>0</td>\n",
              "      <td>3</td>\n",
              "      <td>3</td>\n",
              "      <td>1</td>\n",
              "      <td>1</td>\n",
              "      <td>3</td>\n",
              "      <td>2</td>\n",
              "      <td>11</td>\n",
              "    </tr>\n",
              "    <tr>\n",
              "      <th>2</th>\n",
              "      <td>0</td>\n",
              "      <td>1</td>\n",
              "      <td>2</td>\n",
              "      <td>0</td>\n",
              "      <td>0</td>\n",
              "      <td>1</td>\n",
              "      <td>1</td>\n",
              "      <td>1</td>\n",
              "      <td>0</td>\n",
              "      <td>3</td>\n",
              "      <td>2</td>\n",
              "      <td>2</td>\n",
              "      <td>3</td>\n",
              "      <td>3</td>\n",
              "      <td>6</td>\n",
              "      <td>12</td>\n",
              "    </tr>\n",
              "  </tbody>\n",
              "</table>\n",
              "</div>"
            ],
            "text/plain": [
              "   isMale  urban_resident  studytime  failures  ...  Walc  health  absences  grade\n",
              "0       0               1          2         0  ...     1       3         4     11\n",
              "1       0               1          2         0  ...     1       3         2     11\n",
              "2       0               1          2         0  ...     3       3         6     12\n",
              "\n",
              "[3 rows x 16 columns]"
            ]
          },
          "execution_count": 3,
          "metadata": {},
          "output_type": "execute_result"
        }
      ],
      "source": [
        "# loading the pre-processed dataset\n",
        "df = pd.read_csv('/content/drive/Shareddrives/622 - Privacy/Project Codebase/CSV Data/student_data.csv')\n",
        "df.head(3)"
      ]
    },
    {
      "cell_type": "code",
      "execution_count": null,
      "metadata": {
        "colab": {
          "base_uri": "https://localhost:8080/"
        },
        "id": "_4iax3YfR4YR",
        "outputId": "f273268f-44e8-44a8-e70f-2db80fc9f814"
      },
      "outputs": [
        {
          "name": "stdout",
          "output_type": "stream",
          "text": [
            " average grade is 11.906009244992296\n"
          ]
        }
      ],
      "source": [
        "# creating a new binary column 'above_average_grade' based on MEAN/AVERAGE of the grade column to replicate Fair-SMOTE methodology \n",
        "# also removing any null values\n",
        "average_grade = df[\"grade\"].mean()\n",
        "threshold = average_grade\n",
        "print(' average grade is' ,threshold)\n",
        "df['grade_above_threshold'] = df.apply(lambda row: 1 if row['grade'] > threshold else 0, axis=1)\n",
        "df = df.dropna()"
      ]
    },
    {
      "cell_type": "code",
      "execution_count": null,
      "metadata": {
        "id": "AEpS87F5V2W9"
      },
      "outputs": [],
      "source": [
        "# scaling the dataset\n",
        "scaler = MinMaxScaler()\n",
        "df = pd.DataFrame(scaler.fit_transform(df),columns = df.columns)"
      ]
    },
    {
      "cell_type": "code",
      "execution_count": null,
      "metadata": {
        "id": "4N8KugZAnFc4"
      },
      "outputs": [],
      "source": [
        "# storing a copy to use later for Linear Regression on original dataset\n",
        "data_original = df\n"
      ]
    },
    {
      "cell_type": "code",
      "execution_count": null,
      "metadata": {
        "id": "dvPlBYKdCh6J"
      },
      "outputs": [],
      "source": [
        "# storing scaled average grade to be used for Statistical Parity \n",
        "threshold = df[\"grade\"].mean()"
      ]
    },
    {
      "cell_type": "markdown",
      "metadata": {
        "id": "G_Hy-85nU6Lq"
      },
      "source": [
        "# Oversampling and removing biased labels using FairSMOTE"
      ]
    },
    {
      "cell_type": "markdown",
      "metadata": {
        "id": "w2XzzaNW99Qs"
      },
      "source": [
        "## Oversampling"
      ]
    },
    {
      "cell_type": "code",
      "execution_count": null,
      "metadata": {
        "colab": {
          "base_uri": "https://localhost:8080/"
        },
        "id": "_KQD3LK_ZkG4",
        "outputId": "7863931b-4b54-43c6-8864-8bc05c7077f8"
      },
      "outputs": [
        {
          "name": "stdout",
          "output_type": "stream",
          "text": [
            " Instance distribution --  121 145 227 156\n"
          ]
        }
      ],
      "source": [
        "# first one is class value and second one is protected attribute value\n",
        "# isMale was considered as the PROTECTED ATTRIBUTE \n",
        "male_ab_av = len(df[(df['grade_above_threshold'] == 1) & (df['isMale'] == 1)])\n",
        "male_bl_av= len(df[(df['grade_above_threshold'] == 0) & (df['isMale'] == 1)])\n",
        "female_ab_av= len(df[(df['grade_above_threshold'] == 1) & (df['isMale'] == 0)])\n",
        "female_bl_av= len(df[(df['grade_above_threshold'] == 0) & (df['isMale'] == 0)])\n",
        "\n",
        "print(' Instance distribution -- ',male_ab_av,male_bl_av,female_ab_av,female_bl_av)"
      ]
    },
    {
      "cell_type": "code",
      "execution_count": null,
      "metadata": {
        "colab": {
          "base_uri": "https://localhost:8080/"
        },
        "id": "Nml93wjXZm2z",
        "outputId": "71006c69-9743-42e9-e3cf-8085c302cce1"
      },
      "outputs": [
        {
          "name": "stdout",
          "output_type": "stream",
          "text": [
            " Instances to be increased by -- 106 82 71\n"
          ]
        }
      ],
      "source": [
        "maximum = max(male_ab_av,male_bl_av,female_ab_av,female_bl_av)\n",
        "\n",
        "male_ab_av_to_be_incresed = maximum - male_ab_av\n",
        "male_bl_av_to_be_incresed = maximum - male_bl_av \n",
        "female_bl_av_to_be_incresed = maximum - female_bl_av\n",
        "\n",
        "#Female students with grade > average are more \n",
        "# Therefore, oversampling other subgroups\n",
        "print(' Instances to be increased by --',male_ab_av_to_be_incresed,male_bl_av_to_be_incresed,female_bl_av_to_be_incresed)"
      ]
    },
    {
      "cell_type": "code",
      "execution_count": null,
      "metadata": {
        "id": "Mqwzm_dvt-O-"
      },
      "outputs": [],
      "source": [
        "# generating samples and making instance counts equal\n",
        "df_male_ab_av = (df[(df['grade_above_threshold'] == 1) & (df['isMale'] == 1)])\n",
        "df_male_bl_av= (df[(df['grade_above_threshold'] == 0) & (df['isMale'] == 1)])\n",
        "df_female_bl_av= (df[(df['grade_above_threshold'] == 0) & (df['isMale'] == 0)])\n",
        "\n",
        "# using Generate samples function given by FairSMOTE authors. It uses KNN\n",
        "\n",
        "df_male_ab_av = generate_samples(male_ab_av_to_be_incresed,df_male_ab_av,'law').rename(columns={0:'isMale',1: 'urban_resident', 2:'studytime',3: 'failures', 4:'activities',5:'nursery',6: 'higher', 7:'internet',8: 'romantic', 9:'freetime',10: 'goout',11:'Dalc', 12:'Walc',13: 'health',14: 'absences',15: 'grade', 16:'grade_above_threshold'})\n",
        "df_male_bl_av= generate_samples(male_bl_av_to_be_incresed,df_male_bl_av,'law').rename(columns={0:'isMale',1: 'urban_resident', 2:'studytime',3: 'failures', 4:'activities',5:'nursery',6: 'higher', 7:'internet',8: 'romantic', 9:'freetime',10: 'goout',11:'Dalc', 12:'Walc',13: 'health',14: 'absences',15: 'grade', 16:'grade_above_threshold'})\n",
        "df_female_bl_av= generate_samples(female_bl_av_to_be_incresed,df_female_bl_av,'law').rename(columns={0:'isMale',1: 'urban_resident', 2:'studytime',3: 'failures', 4:'activities',5:'nursery',6: 'higher', 7:'internet',8: 'romantic', 9:'freetime',10: 'goout',11:'Dalc', 12:'Walc',13: 'health',14: 'absences',15: 'grade', 16:'grade_above_threshold'})\n"
      ]
    },
    {
      "cell_type": "code",
      "execution_count": null,
      "metadata": {
        "colab": {
          "base_uri": "https://localhost:8080/"
        },
        "id": "ukAJuUVOls5M",
        "outputId": "0d7e347d-32b6-4cc6-acb4-d3d710f3c3ca"
      },
      "outputs": [
        {
          "name": "stdout",
          "output_type": "stream",
          "text": [
            "The oversampled data has shape -- (908, 17)\n"
          ]
        }
      ],
      "source": [
        "# combining all the oversampled subgroups \n",
        "\n",
        "df_female_ab_av= (df[(df['grade_above_threshold'] == 1) & (df['isMale'] == 0)])\n",
        "data_oversampled = df_female_ab_av.append([df_male_ab_av,df_male_bl_av,df_female_bl_av])\n",
        "\n",
        "print('The oversampled data has shape --',data_oversampled.shape)"
      ]
    },
    {
      "cell_type": "markdown",
      "metadata": {
        "id": "_9YP3AJRsMDx"
      },
      "source": [
        "## Removal of biased data points using situation testing\n"
      ]
    },
    {
      "cell_type": "code",
      "execution_count": null,
      "metadata": {
        "colab": {
          "base_uri": "https://localhost:8080/"
        },
        "id": "_KoJkD51jyv8",
        "outputId": "a3a45df0-687a-49c3-8080-f7c566295f97"
      },
      "outputs": [],
      "source": [
        "import random \n",
        "\n",
        "data_oversampled['new_index'] = range(0,908) # FairSMOTE implementation repeats indexes according to the subgrouped dfs\n",
        "data_oversampled = data_oversampled.set_index('new_index')\n",
        "X_train, y_train = data_oversampled.loc[:, data_oversampled.columns != 'grade_above_threshold'], data_oversampled['grade_above_threshold']\n",
        "\n",
        "\n",
        "clf = LogisticRegression(C=1.0, penalty='l2', solver='liblinear', max_iter=100)\n",
        "clf.fit(X_train,y_train)\n",
        "removal_list = []\n",
        "\n",
        "for index,row in X_train.iterrows():\n",
        "    row_ = [row.values[0:len(row.values)]]    \n",
        "    y_normal = clf.predict(row_)\n",
        "    # Here protected attribute value gets switched\n",
        "    if row_[0][0] == 0: # index of isMale is 0\n",
        "        row_[0][0] = 1\n",
        "    else:\n",
        "        row_[0][0] = 0    \n",
        "    y_reverse = clf.predict(row_)\n",
        "    if y_normal[0] != y_reverse[0]:\n",
        "        removal_list.append(index)\n"
      ]
    },
    {
      "cell_type": "markdown",
      "metadata": {
        "id": "0n5uqFsP9D1u"
      },
      "source": [
        "Note : CANNOT CHANGE A 0 VALUE TO 1, AS IT IS ONE-HOT ENCODED, IT CAN BE CHANGED TO 1 MAYBE : GOTTA DECIDE ON THIS; right now, ill change, lets say, the value from asian to any other race randomly;"
      ]
    },
    {
      "cell_type": "code",
      "execution_count": null,
      "metadata": {
        "colab": {
          "base_uri": "https://localhost:8080/"
        },
        "id": "4gvLUT1e6IFM",
        "outputId": "7cb1bf68-0a76-4d6d-8079-458abdaa2289"
      },
      "outputs": [
        {
          "name": "stdout",
          "output_type": "stream",
          "text": [
            " A total of 28 biased datapoints will be removed\n"
          ]
        }
      ],
      "source": [
        "removal_list = list(set(removal_list))\n",
        "print(f' A total of {len(removal_list)} biased datapoints will be removed')"
      ]
    },
    {
      "cell_type": "code",
      "execution_count": null,
      "metadata": {
        "colab": {
          "base_uri": "https://localhost:8080/"
        },
        "id": "RbKQvvuo81th",
        "outputId": "3f37bc34-665f-4a8f-eb36-97a556791638"
      },
      "outputs": [
        {
          "name": "stdout",
          "output_type": "stream",
          "text": [
            " Final dataset has 880 instances\n"
          ]
        }
      ],
      "source": [
        "# removing biased datapoints are generating final report\n",
        "final = data_oversampled.drop(data_oversampled.index[list(set(removal_list))])\n",
        "print(f' Final dataset has {len(final)} instances')"
      ]
    },
    {
      "cell_type": "code",
      "execution_count": null,
      "metadata": {
        "id": "JZfQWXW1-l9m"
      },
      "outputs": [],
      "source": [
        "# saving the final dataset\n",
        "final.to_csv('/content/drive/Shareddrives/622 - Privacy/Project Codebase/CSV Data/fairSMOTE_oversampled_student_data.csv')"
      ]
    },
    {
      "cell_type": "markdown",
      "metadata": {
        "id": "ccz88jSer8Y7"
      },
      "source": [
        "# Evaluation"
      ]
    },
    {
      "cell_type": "markdown",
      "metadata": {
        "id": "K7J31uyc_lCW"
      },
      "source": [
        "##  Linear Regression  on oversampled data"
      ]
    },
    {
      "cell_type": "code",
      "execution_count": null,
      "metadata": {
        "colab": {
          "base_uri": "https://localhost:8080/"
        },
        "id": "kAVYWIWlrNqy",
        "outputId": "cd3a0bdc-34b7-479b-f553-ecb1c70ca8a8"
      },
      "outputs": [
        {
          "name": "stdout",
          "output_type": "stream",
          "text": [
            "Intercept:  0.5184133436030582\n",
            "Root Mean Square Error:  0.1498577080973018\n",
            "R^2 Value:  0.33617186588345027\n"
          ]
        }
      ],
      "source": [
        "# training a linear regression model which will be used for evaluation\n",
        "# Regression with Protected attribute Gender \n",
        "data_oversampled = final\n",
        "data_oversampled_onlygrade = data_oversampled.drop('grade_above_threshold',axis = 1) # removing binary column that was generated\n",
        "\n",
        "df = data_oversampled_onlygrade\n",
        "\n",
        "X = df.iloc[:,df.columns != 'grade']\n",
        "Y = df['grade']\n",
        "X_train, X_test, Y_train, Y_test = train_test_split(X, Y, test_size=0.2, random_state= 0)\n",
        "\n",
        "model = linear_model.LinearRegression()\n",
        "model.fit(X_train, Y_train)\n",
        "y_pred_w_prot_attr = model.predict(X_test)\n",
        "\n",
        "rmsd = np.sqrt(mean_squared_error(Y_test, y_pred_w_prot_attr))      \n",
        "r2_value = r2_score(Y_test, y_pred_w_prot_attr)                     \n",
        "\n",
        "print(\"Intercept: \", model.intercept_)\n",
        "print(\"Root Mean Square Error: \", rmsd)\n",
        "print(\"R^2 Value: \", r2_value)"
      ]
    },
    {
      "cell_type": "code",
      "execution_count": null,
      "metadata": {
        "colab": {
          "base_uri": "https://localhost:8080/"
        },
        "id": "r_g8w2AG3JSV",
        "outputId": "892fa60a-e38f-4b41-9c83-a13a243def75"
      },
      "outputs": [
        {
          "name": "stdout",
          "output_type": "stream",
          "text": [
            "Intercept:  0.5179707441723812\n",
            "Root Mean Square Error:  0.14962440681242645\n",
            "R^2 Value:  0.33823717710180823\n"
          ]
        }
      ],
      "source": [
        "# without protected attribute\n",
        "\n",
        "_df = df.drop(['isMale'], axis = 1)\n",
        "X = _df.iloc[:,_df.columns != 'grade']\n",
        "Y = _df['grade']\n",
        "X_train, X_test, Y_train, Y_test = train_test_split(X, Y, test_size=0.2, random_state= 0)\n",
        "\n",
        "model = linear_model.LinearRegression()\n",
        "model.fit(X_train, Y_train)\n",
        "y_pred_wo_prot_attr = model.predict(X_test)\n",
        "\n",
        "rmsd = np.sqrt(mean_squared_error(Y_test, y_pred_wo_prot_attr))      \n",
        "r2_value = r2_score(Y_test, y_pred_wo_prot_attr)                     \n",
        "\n",
        "print(\"Intercept: \", model.intercept_)\n",
        "print(\"Root Mean Square Error: \", rmsd)\n",
        "print(\"R^2 Value: \", r2_value)"
      ]
    },
    {
      "cell_type": "code",
      "execution_count": null,
      "metadata": {
        "colab": {
          "base_uri": "https://localhost:8080/"
        },
        "id": "r1EYiE883kyY",
        "outputId": "08f8f7a0-1b90-4502-bfd4-0ba2b996c54b"
      },
      "outputs": [
        {
          "name": "stdout",
          "output_type": "stream",
          "text": [
            "Statistical Parity is  0.011363636363636354\n"
          ]
        }
      ],
      "source": [
        "# Statistical Parity\n",
        "\n",
        "counter = 0\n",
        "for entry in y_pred_w_prot_attr:\n",
        "  if entry > threshold : counter+=1\n",
        "prob_w_prot_attr = counter/len(y_pred_w_prot_attr)\n",
        "\n",
        "\n",
        "counter = 0\n",
        "for entry in y_pred_wo_prot_attr:\n",
        "  if entry > threshold : counter+=1\n",
        "prob_wo_prot_attr = counter/len(y_pred_wo_prot_attr)\n",
        "\n",
        "print('Statistical Parity is ', abs(prob_w_prot_attr-prob_wo_prot_attr))\n"
      ]
    },
    {
      "cell_type": "code",
      "execution_count": null,
      "metadata": {
        "colab": {
          "base_uri": "https://localhost:8080/"
        },
        "id": "a5sh-6uExskI",
        "outputId": "aef3e334-ecb3-48cc-8313-3c97591a8be7"
      },
      "outputs": [
        {
          "name": "stdout",
          "output_type": "stream",
          "text": [
            "0.10955594750739306\n"
          ]
        },
        {
          "name": "stderr",
          "output_type": "stream",
          "text": [
            "/usr/local/lib/python3.7/dist-packages/fairlearn/metrics/_metric_frame.py:67: FutureWarning: You have provided 'metrics', 'y_true', 'y_pred' as positional arguments. Please pass them as keyword arguments. From version 0.10.0 passing them as positional arguments will result in an error.\n",
            "  FutureWarning)\n"
          ]
        }
      ],
      "source": [
        "# Bounded Group Loss \n",
        "\n",
        "X = df.iloc[:,df.columns != 'grade']\n",
        "Y = df['grade']\n",
        "X_train, X_test, Y_train, Y_test = train_test_split(X, Y, test_size=0.2, random_state= 0)\n",
        "\n",
        "bgl = BoundedGroupLoss(ZeroOneLoss(), upper_bound=0.1)\n",
        "sensitive_features = np.array(list(X_test['isMale'].values))\n",
        "mae_frame = MetricFrame(mean_absolute_error,\n",
        "                        Y_test, y_pred_w_prot_attr,\n",
        "                        sensitive_features=pd.Series(sensitive_features, name=\"SF 0\"))\n",
        "print(mae_frame.overall)"
      ]
    },
    {
      "cell_type": "markdown",
      "metadata": {
        "id": "HFb2ryrXnNmL"
      },
      "source": [
        "## Linear regression on original dataset"
      ]
    },
    {
      "cell_type": "code",
      "execution_count": null,
      "metadata": {
        "colab": {
          "base_uri": "https://localhost:8080/"
        },
        "id": "BjypVXEnnRcq",
        "outputId": "ea5494d6-7d5a-49f7-ae43-e771ef3e93d0"
      },
      "outputs": [
        {
          "name": "stdout",
          "output_type": "stream",
          "text": [
            "Intercept:  0.5342223093777894\n",
            "Root Mean Square Error:  0.13351326254899357\n",
            "R^2 Value:  0.09414464917492305\n"
          ]
        }
      ],
      "source": [
        "# training a linear regression model which will be used for evaluation\n",
        "# Regression with Protected attribute Gender \n",
        "data_oversampled = data_original\n",
        "data_oversampled_onlygrade = data_oversampled.drop('grade_above_threshold',axis = 1) # removing binary column that was generated\n",
        "\n",
        "df = data_oversampled_onlygrade\n",
        "\n",
        "X = df.iloc[:,df.columns != 'grade']\n",
        "Y = df['grade']\n",
        "X_train, X_test, Y_train, Y_test = train_test_split(X, Y, test_size=0.2, random_state= 0)\n",
        "\n",
        "model = linear_model.LinearRegression()\n",
        "model.fit(X_train, Y_train)\n",
        "y_pred_w_prot_attr = model.predict(X_test)\n",
        "\n",
        "rmsd = np.sqrt(mean_squared_error(Y_test, y_pred_w_prot_attr))      \n",
        "r2_value = r2_score(Y_test, y_pred_w_prot_attr)                     \n",
        "\n",
        "print(\"Intercept: \", model.intercept_)\n",
        "print(\"Root Mean Square Error: \", rmsd)\n",
        "print(\"R^2 Value: \", r2_value)"
      ]
    },
    {
      "cell_type": "code",
      "execution_count": null,
      "metadata": {
        "colab": {
          "base_uri": "https://localhost:8080/"
        },
        "id": "7j68BxX8OvTZ",
        "outputId": "39398ebd-9575-4abb-a149-3e46f199bd0e"
      },
      "outputs": [
        {
          "name": "stdout",
          "output_type": "stream",
          "text": [
            "Intercept:  0.5276715251447968\n",
            "Root Mean Square Error:  0.1329985087225458\n",
            "R^2 Value:  0.10111614571734162\n"
          ]
        }
      ],
      "source": [
        "# without protected attribute\n",
        "\n",
        "_df = df.drop(['isMale'], axis = 1)\n",
        "X = _df.iloc[:,_df.columns != 'grade']\n",
        "Y = _df['grade']\n",
        "X_train, X_test, Y_train, Y_test = train_test_split(X, Y, test_size=0.2, random_state= 0)\n",
        "\n",
        "model = linear_model.LinearRegression()\n",
        "model.fit(X_train, Y_train)\n",
        "y_pred_wo_prot_attr = model.predict(X_test)\n",
        "\n",
        "rmsd = np.sqrt(mean_squared_error(Y_test, y_pred_wo_prot_attr))      \n",
        "r2_value = r2_score(Y_test, y_pred_wo_prot_attr)                     \n",
        "\n",
        "print(\"Intercept: \", model.intercept_)\n",
        "print(\"Root Mean Square Error: \", rmsd)\n",
        "print(\"R^2 Value: \", r2_value)"
      ]
    },
    {
      "cell_type": "code",
      "execution_count": null,
      "metadata": {
        "colab": {
          "base_uri": "https://localhost:8080/"
        },
        "id": "F4bS5dkQBjka",
        "outputId": "06e29937-bac4-426c-ac35-6123f7260f10"
      },
      "outputs": [
        {
          "name": "stdout",
          "output_type": "stream",
          "text": [
            "Statistical Parity is  0.023076923076923106\n"
          ]
        }
      ],
      "source": [
        "# Statistical Parity\n",
        "\n",
        "counter = 0\n",
        "for entry in y_pred_w_prot_attr:\n",
        "  if entry > threshold : counter+=1\n",
        "prob_w_prot_attr = counter/len(y_pred_w_prot_attr)\n",
        "\n",
        "\n",
        "counter = 0\n",
        "for entry in y_pred_wo_prot_attr:\n",
        "  if entry > threshold : counter+=1\n",
        "prob_wo_prot_attr = counter/len(y_pred_wo_prot_attr)\n",
        "\n",
        "print('Statistical Parity is ', abs(prob_w_prot_attr-prob_wo_prot_attr))\n"
      ]
    },
    {
      "cell_type": "code",
      "execution_count": null,
      "metadata": {
        "colab": {
          "base_uri": "https://localhost:8080/"
        },
        "id": "WCrRvWJLoSHz",
        "outputId": "e6f2253b-957a-4978-e4e4-a0b395efc6c1"
      },
      "outputs": [
        {
          "name": "stdout",
          "output_type": "stream",
          "text": [
            "0.09569966442908527\n"
          ]
        },
        {
          "name": "stderr",
          "output_type": "stream",
          "text": [
            "/usr/local/lib/python3.7/dist-packages/fairlearn/metrics/_metric_frame.py:67: FutureWarning: You have provided 'metrics', 'y_true', 'y_pred' as positional arguments. Please pass them as keyword arguments. From version 0.10.0 passing them as positional arguments will result in an error.\n",
            "  FutureWarning)\n"
          ]
        }
      ],
      "source": [
        "# Bounded Group Loss\n",
        "\n",
        "X = data_original.iloc[:,data_original.columns != 'grade']\n",
        "Y = data_original['grade']\n",
        "X_train, X_test, Y_train, Y_test = train_test_split(X, Y, test_size=0.2, random_state= 0)\n",
        "\n",
        "bgl = BoundedGroupLoss(ZeroOneLoss(), upper_bound=0.1)\n",
        "sensitive_features = np.array(list(X_test['isMale'].values))\n",
        "mae_frame = MetricFrame(mean_absolute_error,\n",
        "                        Y_test, y_pred_w_prot_attr,\n",
        "                        sensitive_features=pd.Series(sensitive_features, name=\"SF 0\"))\n",
        "print(mae_frame.overall)"
      ]
    },
    {
      "cell_type": "code",
      "execution_count": null,
      "metadata": {
        "id": "BvgyIxEzyTs3"
      },
      "outputs": [],
      "source": []
    },
    {
      "cell_type": "code",
      "execution_count": null,
      "metadata": {
        "id": "Hf-Og_9ayTwI"
      },
      "outputs": [],
      "source": []
    },
    {
      "cell_type": "code",
      "execution_count": null,
      "metadata": {
        "id": "tNhapL6cyTxI"
      },
      "outputs": [],
      "source": []
    }
  ],
  "metadata": {
    "colab": {
      "collapsed_sections": [],
      "name": "StudentDataset_mean.ipynb",
      "provenance": [],
      "toc_visible": true
    },
    "kernelspec": {
      "display_name": "Python 3",
      "name": "python3"
    },
    "language_info": {
      "name": "python"
    }
  },
  "nbformat": 4,
  "nbformat_minor": 0
}
