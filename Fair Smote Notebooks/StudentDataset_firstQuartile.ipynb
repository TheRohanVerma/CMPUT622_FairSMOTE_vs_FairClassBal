{
  "cells": [
    {
      "cell_type": "markdown",
      "metadata": {
        "id": "BW-iuV1i91WR"
      },
      "source": [
        "# Loading and Pre-processing Student Performance dataset"
      ]
    },
    {
      "cell_type": "code",
      "execution_count": null,
      "metadata": {
        "colab": {
          "base_uri": "https://localhost:8080/"
        },
        "id": "mS5x30JPQYYc",
        "outputId": "95ef7cec-3c8a-45b0-c42a-c4afad6698cb"
      },
      "outputs": [
        {
          "name": "stdout",
          "output_type": "stream",
          "text": [
            "Drive already mounted at /content/drive; to attempt to forcibly remount, call drive.mount(\"/content/drive\", force_remount=True).\n"
          ]
        }
      ],
      "source": [
        "from google.colab import drive\n",
        "drive.mount('/content/drive')"
      ]
    },
    {
      "cell_type": "code",
      "execution_count": null,
      "metadata": {
        "colab": {
          "base_uri": "https://localhost:8080/"
        },
        "id": "l5k5VQa6VtvQ",
        "outputId": "dd1af8a8-97d5-46a7-bce5-4fc93301e281"
      },
      "outputs": [
        {
          "name": "stdout",
          "output_type": "stream",
          "text": [
            "Requirement already satisfied: fairlearn in /usr/local/lib/python3.7/dist-packages (0.7.0)\n",
            "Requirement already satisfied: scikit-learn>=0.22.1 in /usr/local/lib/python3.7/dist-packages (from fairlearn) (1.0.1)\n",
            "Requirement already satisfied: numpy>=1.17.2 in /usr/local/lib/python3.7/dist-packages (from fairlearn) (1.19.5)\n",
            "Requirement already satisfied: scipy>=1.4.1 in /usr/local/lib/python3.7/dist-packages (from fairlearn) (1.4.1)\n",
            "Requirement already satisfied: pandas>=0.25.1 in /usr/local/lib/python3.7/dist-packages (from fairlearn) (1.1.5)\n",
            "Requirement already satisfied: pytz>=2017.2 in /usr/local/lib/python3.7/dist-packages (from pandas>=0.25.1->fairlearn) (2018.9)\n",
            "Requirement already satisfied: python-dateutil>=2.7.3 in /usr/local/lib/python3.7/dist-packages (from pandas>=0.25.1->fairlearn) (2.8.2)\n",
            "Requirement already satisfied: six>=1.5 in /usr/local/lib/python3.7/dist-packages (from python-dateutil>=2.7.3->pandas>=0.25.1->fairlearn) (1.15.0)\n",
            "Requirement already satisfied: threadpoolctl>=2.0.0 in /usr/local/lib/python3.7/dist-packages (from scikit-learn>=0.22.1->fairlearn) (3.0.0)\n",
            "Requirement already satisfied: joblib>=0.11 in /usr/local/lib/python3.7/dist-packages (from scikit-learn>=0.22.1->fairlearn) (1.1.0)\n"
          ]
        }
      ],
      "source": [
        "import random,time,csv\n",
        "import math,copy,os\n",
        "from sklearn.preprocessing import MinMaxScaler\n",
        "from sklearn.tree import DecisionTreeRegressor\n",
        "from sklearn.model_selection import train_test_split\n",
        "from sklearn import tree\n",
        "from sklearn.naive_bayes import GaussianNB\n",
        "from sklearn.ensemble import RandomForestClassifier\n",
        "import sklearn.metrics as metrics\n",
        "import six.moves.urllib as urllib\n",
        "from google.protobuf import text_format\n",
        "from sklearn import preprocessing\n",
        "import tensorflow as tf\n",
        "tf.compat.v1.enable_v2_behavior()\n",
        "! pip install fairlearn\n",
        "import random\n",
        "import random,time,csv\n",
        "import math,copy,os\n",
        "from sklearn.linear_model import LogisticRegression\n",
        "from sklearn.tree import DecisionTreeRegressor\n",
        "from sklearn.model_selection import train_test_split\n",
        "from sklearn.metrics import classification_report, confusion_matrix, accuracy_score\n",
        "from sklearn import tree\n",
        "from sklearn.svm import SVC\n",
        "import os\n",
        "import tempfile\n",
        "import pandas as pd\n",
        "import six.moves.urllib as urllib\n",
        "import pprint\n",
        "from pandas import read_csv\n",
        "import matplotlib.pyplot as plt\n",
        "from sklearn.cluster import KMeans\n",
        "from sklearn import preprocessing\n",
        "from sklearn.linear_model import LinearRegression\n",
        "from google.colab import files\n",
        "from fairlearn.reductions import BoundedGroupLoss, ZeroOneLoss\n",
        "from sklearn.metrics import mean_absolute_error\n",
        "import matplotlib.pyplot as plt\n",
        "import numpy as np\n",
        "from sklearn import linear_model\n",
        "from sklearn.metrics import mean_squared_error, r2_score\n",
        "from sklearn.model_selection import train_test_split\n",
        "from fairlearn.metrics import MetricFrame, selection_rate\n",
        "from sklearn.preprocessing import MinMaxScaler\n",
        "import sys\n",
        "sys.path.insert(1, '/content/drive/Shareddrives/622 - Privacy/Project Codebase/Fair-SMOTE-master/')\n",
        "from Measure import measure_final_score,calculate_recall,calculate_far,calculate_precision,calculate_accuracy\n",
        "from Generate_Samples import generate_samples"
      ]
    },
    {
      "cell_type": "code",
      "execution_count": null,
      "metadata": {
        "colab": {
          "base_uri": "https://localhost:8080/",
          "height": 143
        },
        "id": "WkL8oiK0Vz0O",
        "outputId": "2d6ef854-361f-4af2-9c29-487027950743"
      },
      "outputs": [
        {
          "data": {
            "text/html": [
              "<div>\n",
              "<style scoped>\n",
              "    .dataframe tbody tr th:only-of-type {\n",
              "        vertical-align: middle;\n",
              "    }\n",
              "\n",
              "    .dataframe tbody tr th {\n",
              "        vertical-align: top;\n",
              "    }\n",
              "\n",
              "    .dataframe thead th {\n",
              "        text-align: right;\n",
              "    }\n",
              "</style>\n",
              "<table border=\"1\" class=\"dataframe\">\n",
              "  <thead>\n",
              "    <tr style=\"text-align: right;\">\n",
              "      <th></th>\n",
              "      <th>isMale</th>\n",
              "      <th>urban_resident</th>\n",
              "      <th>studytime</th>\n",
              "      <th>failures</th>\n",
              "      <th>activities</th>\n",
              "      <th>nursery</th>\n",
              "      <th>higher</th>\n",
              "      <th>internet</th>\n",
              "      <th>romantic</th>\n",
              "      <th>freetime</th>\n",
              "      <th>goout</th>\n",
              "      <th>Dalc</th>\n",
              "      <th>Walc</th>\n",
              "      <th>health</th>\n",
              "      <th>absences</th>\n",
              "      <th>grade</th>\n",
              "    </tr>\n",
              "  </thead>\n",
              "  <tbody>\n",
              "    <tr>\n",
              "      <th>0</th>\n",
              "      <td>0</td>\n",
              "      <td>1</td>\n",
              "      <td>2</td>\n",
              "      <td>0</td>\n",
              "      <td>0</td>\n",
              "      <td>1</td>\n",
              "      <td>1</td>\n",
              "      <td>0</td>\n",
              "      <td>0</td>\n",
              "      <td>3</td>\n",
              "      <td>4</td>\n",
              "      <td>1</td>\n",
              "      <td>1</td>\n",
              "      <td>3</td>\n",
              "      <td>4</td>\n",
              "      <td>11</td>\n",
              "    </tr>\n",
              "    <tr>\n",
              "      <th>1</th>\n",
              "      <td>0</td>\n",
              "      <td>1</td>\n",
              "      <td>2</td>\n",
              "      <td>0</td>\n",
              "      <td>0</td>\n",
              "      <td>0</td>\n",
              "      <td>1</td>\n",
              "      <td>1</td>\n",
              "      <td>0</td>\n",
              "      <td>3</td>\n",
              "      <td>3</td>\n",
              "      <td>1</td>\n",
              "      <td>1</td>\n",
              "      <td>3</td>\n",
              "      <td>2</td>\n",
              "      <td>11</td>\n",
              "    </tr>\n",
              "    <tr>\n",
              "      <th>2</th>\n",
              "      <td>0</td>\n",
              "      <td>1</td>\n",
              "      <td>2</td>\n",
              "      <td>0</td>\n",
              "      <td>0</td>\n",
              "      <td>1</td>\n",
              "      <td>1</td>\n",
              "      <td>1</td>\n",
              "      <td>0</td>\n",
              "      <td>3</td>\n",
              "      <td>2</td>\n",
              "      <td>2</td>\n",
              "      <td>3</td>\n",
              "      <td>3</td>\n",
              "      <td>6</td>\n",
              "      <td>12</td>\n",
              "    </tr>\n",
              "  </tbody>\n",
              "</table>\n",
              "</div>"
            ],
            "text/plain": [
              "   isMale  urban_resident  studytime  failures  ...  Walc  health  absences  grade\n",
              "0       0               1          2         0  ...     1       3         4     11\n",
              "1       0               1          2         0  ...     1       3         2     11\n",
              "2       0               1          2         0  ...     3       3         6     12\n",
              "\n",
              "[3 rows x 16 columns]"
            ]
          },
          "execution_count": 26,
          "metadata": {},
          "output_type": "execute_result"
        }
      ],
      "source": [
        "# loading the pre-processed dataset\n",
        "df = pd.read_csv('/content/drive/Shareddrives/622 - Privacy/Project Codebase/CSV Data/student_data.csv')\n",
        "df.head(3)"
      ]
    },
    {
      "cell_type": "code",
      "execution_count": null,
      "metadata": {
        "colab": {
          "base_uri": "https://localhost:8080/"
        },
        "id": "_4iax3YfR4YR",
        "outputId": "cf97b698-3974-40f4-a15c-bd7588124cc6"
      },
      "outputs": [
        {
          "name": "stdout",
          "output_type": "stream",
          "text": [
            " first quartile grade is 10\n"
          ]
        }
      ],
      "source": [
        "# creating a new binary column 'above_average_threshold' based on first quartile of the grade column to replicate Fair-SMOTE methodology \n",
        "# also removing any null values\n",
        "first_quartile = 10\n",
        "threshold = first_quartile\n",
        "print(' first quartile grade is' ,threshold)\n",
        "df['grade_above_threshold'] = df.apply(lambda row: 1 if row['grade'] > threshold else 0, axis=1)\n",
        "df = df.dropna()"
      ]
    },
    {
      "cell_type": "code",
      "execution_count": null,
      "metadata": {
        "id": "AEpS87F5V2W9"
      },
      "outputs": [],
      "source": [
        "# scaling the dataset\n",
        "scaler = MinMaxScaler()\n",
        "df = pd.DataFrame(scaler.fit_transform(df),columns = df.columns)"
      ]
    },
    {
      "cell_type": "code",
      "execution_count": null,
      "metadata": {
        "colab": {
          "base_uri": "https://localhost:8080/",
          "height": 320
        },
        "id": "4N8KugZAnFc4",
        "outputId": "1dc41eab-c53c-4e8d-c853-e36738aabd64"
      },
      "outputs": [
        {
          "data": {
            "text/html": [
              "<div>\n",
              "<style scoped>\n",
              "    .dataframe tbody tr th:only-of-type {\n",
              "        vertical-align: middle;\n",
              "    }\n",
              "\n",
              "    .dataframe tbody tr th {\n",
              "        vertical-align: top;\n",
              "    }\n",
              "\n",
              "    .dataframe thead th {\n",
              "        text-align: right;\n",
              "    }\n",
              "</style>\n",
              "<table border=\"1\" class=\"dataframe\">\n",
              "  <thead>\n",
              "    <tr style=\"text-align: right;\">\n",
              "      <th></th>\n",
              "      <th>isMale</th>\n",
              "      <th>urban_resident</th>\n",
              "      <th>studytime</th>\n",
              "      <th>failures</th>\n",
              "      <th>activities</th>\n",
              "      <th>nursery</th>\n",
              "      <th>higher</th>\n",
              "      <th>internet</th>\n",
              "      <th>romantic</th>\n",
              "      <th>freetime</th>\n",
              "      <th>goout</th>\n",
              "      <th>Dalc</th>\n",
              "      <th>Walc</th>\n",
              "      <th>health</th>\n",
              "      <th>absences</th>\n",
              "      <th>grade</th>\n",
              "      <th>grade_above_threshold</th>\n",
              "    </tr>\n",
              "  </thead>\n",
              "  <tbody>\n",
              "    <tr>\n",
              "      <th>count</th>\n",
              "      <td>649.000000</td>\n",
              "      <td>649.000000</td>\n",
              "      <td>649.000000</td>\n",
              "      <td>649.000000</td>\n",
              "      <td>649.000000</td>\n",
              "      <td>649.000000</td>\n",
              "      <td>649.000000</td>\n",
              "      <td>649.000000</td>\n",
              "      <td>649.000000</td>\n",
              "      <td>649.000000</td>\n",
              "      <td>649.000000</td>\n",
              "      <td>649.000000</td>\n",
              "      <td>649.000000</td>\n",
              "      <td>649.000000</td>\n",
              "      <td>649.000000</td>\n",
              "      <td>649.000000</td>\n",
              "      <td>649.000000</td>\n",
              "    </tr>\n",
              "    <tr>\n",
              "      <th>mean</th>\n",
              "      <td>0.409861</td>\n",
              "      <td>0.696456</td>\n",
              "      <td>0.310221</td>\n",
              "      <td>0.073960</td>\n",
              "      <td>0.485362</td>\n",
              "      <td>0.802773</td>\n",
              "      <td>0.893683</td>\n",
              "      <td>0.767334</td>\n",
              "      <td>0.368259</td>\n",
              "      <td>0.545069</td>\n",
              "      <td>0.546225</td>\n",
              "      <td>0.125578</td>\n",
              "      <td>0.320108</td>\n",
              "      <td>0.634052</td>\n",
              "      <td>0.114359</td>\n",
              "      <td>0.626632</td>\n",
              "      <td>0.696456</td>\n",
              "    </tr>\n",
              "    <tr>\n",
              "      <th>std</th>\n",
              "      <td>0.492187</td>\n",
              "      <td>0.460143</td>\n",
              "      <td>0.276503</td>\n",
              "      <td>0.197745</td>\n",
              "      <td>0.500171</td>\n",
              "      <td>0.398212</td>\n",
              "      <td>0.308481</td>\n",
              "      <td>0.422857</td>\n",
              "      <td>0.482704</td>\n",
              "      <td>0.262773</td>\n",
              "      <td>0.293942</td>\n",
              "      <td>0.231209</td>\n",
              "      <td>0.321095</td>\n",
              "      <td>0.361565</td>\n",
              "      <td>0.145024</td>\n",
              "      <td>0.170035</td>\n",
              "      <td>0.460143</td>\n",
              "    </tr>\n",
              "    <tr>\n",
              "      <th>min</th>\n",
              "      <td>0.000000</td>\n",
              "      <td>0.000000</td>\n",
              "      <td>0.000000</td>\n",
              "      <td>0.000000</td>\n",
              "      <td>0.000000</td>\n",
              "      <td>0.000000</td>\n",
              "      <td>0.000000</td>\n",
              "      <td>0.000000</td>\n",
              "      <td>0.000000</td>\n",
              "      <td>0.000000</td>\n",
              "      <td>0.000000</td>\n",
              "      <td>0.000000</td>\n",
              "      <td>0.000000</td>\n",
              "      <td>0.000000</td>\n",
              "      <td>0.000000</td>\n",
              "      <td>0.000000</td>\n",
              "      <td>0.000000</td>\n",
              "    </tr>\n",
              "    <tr>\n",
              "      <th>25%</th>\n",
              "      <td>0.000000</td>\n",
              "      <td>0.000000</td>\n",
              "      <td>0.000000</td>\n",
              "      <td>0.000000</td>\n",
              "      <td>0.000000</td>\n",
              "      <td>1.000000</td>\n",
              "      <td>1.000000</td>\n",
              "      <td>1.000000</td>\n",
              "      <td>0.000000</td>\n",
              "      <td>0.500000</td>\n",
              "      <td>0.250000</td>\n",
              "      <td>0.000000</td>\n",
              "      <td>0.000000</td>\n",
              "      <td>0.250000</td>\n",
              "      <td>0.000000</td>\n",
              "      <td>0.526316</td>\n",
              "      <td>0.000000</td>\n",
              "    </tr>\n",
              "    <tr>\n",
              "      <th>50%</th>\n",
              "      <td>0.000000</td>\n",
              "      <td>1.000000</td>\n",
              "      <td>0.333333</td>\n",
              "      <td>0.000000</td>\n",
              "      <td>0.000000</td>\n",
              "      <td>1.000000</td>\n",
              "      <td>1.000000</td>\n",
              "      <td>1.000000</td>\n",
              "      <td>0.000000</td>\n",
              "      <td>0.500000</td>\n",
              "      <td>0.500000</td>\n",
              "      <td>0.000000</td>\n",
              "      <td>0.250000</td>\n",
              "      <td>0.750000</td>\n",
              "      <td>0.062500</td>\n",
              "      <td>0.631579</td>\n",
              "      <td>1.000000</td>\n",
              "    </tr>\n",
              "    <tr>\n",
              "      <th>75%</th>\n",
              "      <td>1.000000</td>\n",
              "      <td>1.000000</td>\n",
              "      <td>0.333333</td>\n",
              "      <td>0.000000</td>\n",
              "      <td>1.000000</td>\n",
              "      <td>1.000000</td>\n",
              "      <td>1.000000</td>\n",
              "      <td>1.000000</td>\n",
              "      <td>1.000000</td>\n",
              "      <td>0.750000</td>\n",
              "      <td>0.750000</td>\n",
              "      <td>0.250000</td>\n",
              "      <td>0.500000</td>\n",
              "      <td>1.000000</td>\n",
              "      <td>0.187500</td>\n",
              "      <td>0.736842</td>\n",
              "      <td>1.000000</td>\n",
              "    </tr>\n",
              "    <tr>\n",
              "      <th>max</th>\n",
              "      <td>1.000000</td>\n",
              "      <td>1.000000</td>\n",
              "      <td>1.000000</td>\n",
              "      <td>1.000000</td>\n",
              "      <td>1.000000</td>\n",
              "      <td>1.000000</td>\n",
              "      <td>1.000000</td>\n",
              "      <td>1.000000</td>\n",
              "      <td>1.000000</td>\n",
              "      <td>1.000000</td>\n",
              "      <td>1.000000</td>\n",
              "      <td>1.000000</td>\n",
              "      <td>1.000000</td>\n",
              "      <td>1.000000</td>\n",
              "      <td>1.000000</td>\n",
              "      <td>1.000000</td>\n",
              "      <td>1.000000</td>\n",
              "    </tr>\n",
              "  </tbody>\n",
              "</table>\n",
              "</div>"
            ],
            "text/plain": [
              "           isMale  urban_resident  ...       grade  grade_above_threshold\n",
              "count  649.000000      649.000000  ...  649.000000             649.000000\n",
              "mean     0.409861        0.696456  ...    0.626632               0.696456\n",
              "std      0.492187        0.460143  ...    0.170035               0.460143\n",
              "min      0.000000        0.000000  ...    0.000000               0.000000\n",
              "25%      0.000000        0.000000  ...    0.526316               0.000000\n",
              "50%      0.000000        1.000000  ...    0.631579               1.000000\n",
              "75%      1.000000        1.000000  ...    0.736842               1.000000\n",
              "max      1.000000        1.000000  ...    1.000000               1.000000\n",
              "\n",
              "[8 rows x 17 columns]"
            ]
          },
          "execution_count": 29,
          "metadata": {},
          "output_type": "execute_result"
        }
      ],
      "source": [
        "# storing a copy to use later for Linear Regression on original dataset\n",
        "data_original = df\n",
        "df.describe()"
      ]
    },
    {
      "cell_type": "code",
      "execution_count": null,
      "metadata": {
        "id": "dvPlBYKdCh6J"
      },
      "outputs": [],
      "source": [
        "# storing scaled first quartile to be used for Statistical Parity \n",
        "threshold = 0.5263"
      ]
    },
    {
      "cell_type": "markdown",
      "metadata": {
        "id": "G_Hy-85nU6Lq"
      },
      "source": [
        "# Oversampling and removing biased labels using FairSMOTE"
      ]
    },
    {
      "cell_type": "markdown",
      "metadata": {
        "id": "w2XzzaNW99Qs"
      },
      "source": [
        "## Oversampling"
      ]
    },
    {
      "cell_type": "code",
      "execution_count": null,
      "metadata": {
        "colab": {
          "base_uri": "https://localhost:8080/"
        },
        "id": "_KQD3LK_ZkG4",
        "outputId": "fd2b67c8-74a7-417a-8f36-af58887060c6"
      },
      "outputs": [
        {
          "name": "stdout",
          "output_type": "stream",
          "text": [
            " Instance distribution --  171 95 281 102\n"
          ]
        }
      ],
      "source": [
        "# first one is class value and second one is protected attribute value\n",
        "# isMale was considered as the PROTECTED ATTRIBUTE \n",
        "male_ab_av = len(df[(df['grade_above_threshold'] == 1) & (df['isMale'] == 1)])\n",
        "male_bl_av= len(df[(df['grade_above_threshold'] == 0) & (df['isMale'] == 1)])\n",
        "female_ab_av= len(df[(df['grade_above_threshold'] == 1) & (df['isMale'] == 0)])\n",
        "female_bl_av= len(df[(df['grade_above_threshold'] == 0) & (df['isMale'] == 0)])\n",
        "\n",
        "print(' Instance distribution -- ',male_ab_av,male_bl_av,female_ab_av,female_bl_av)"
      ]
    },
    {
      "cell_type": "code",
      "execution_count": null,
      "metadata": {
        "colab": {
          "base_uri": "https://localhost:8080/"
        },
        "id": "Nml93wjXZm2z",
        "outputId": "807ad751-6f8f-4539-cb36-b2314aeff127"
      },
      "outputs": [
        {
          "name": "stdout",
          "output_type": "stream",
          "text": [
            " Instances to be increased by -- 110 186 179\n"
          ]
        }
      ],
      "source": [
        "maximum = max(male_ab_av,male_bl_av,female_ab_av,female_bl_av)\n",
        "\n",
        "male_ab_av_to_be_incresed = maximum - male_ab_av\n",
        "male_bl_av_to_be_incresed = maximum - male_bl_av \n",
        "female_bl_av_to_be_incresed = maximum - female_bl_av\n",
        "\n",
        "#Female students with grade > average are more \n",
        "# Therefore, oversampling other subgroups\n",
        "print(' Instances to be increased by --',male_ab_av_to_be_incresed,male_bl_av_to_be_incresed,female_bl_av_to_be_incresed)"
      ]
    },
    {
      "cell_type": "code",
      "execution_count": null,
      "metadata": {
        "id": "Mqwzm_dvt-O-"
      },
      "outputs": [],
      "source": [
        "# generating samples and making instance counts equal\n",
        "df_male_ab_av = (df[(df['grade_above_threshold'] == 1) & (df['isMale'] == 1)])\n",
        "df_male_bl_av= (df[(df['grade_above_threshold'] == 0) & (df['isMale'] == 1)])\n",
        "df_female_bl_av= (df[(df['grade_above_threshold'] == 0) & (df['isMale'] == 0)])\n",
        "\n",
        "# using Generate samples function given by FairSMOTE authors. It uses KNN\n",
        "\n",
        "df_male_ab_av = generate_samples(male_ab_av_to_be_incresed,df_male_ab_av,'law').rename(columns={0:'isMale',1: 'urban_resident', 2:'studytime',3: 'failures', 4:'activities',5:'nursery',6: 'higher', 7:'internet',8: 'romantic', 9:'freetime',10: 'goout',11:'Dalc', 12:'Walc',13: 'health',14: 'absences',15: 'grade', 16:'grade_above_threshold'})\n",
        "df_male_bl_av= generate_samples(male_bl_av_to_be_incresed,df_male_bl_av,'law').rename(columns={0:'isMale',1: 'urban_resident', 2:'studytime',3: 'failures', 4:'activities',5:'nursery',6: 'higher', 7:'internet',8: 'romantic', 9:'freetime',10: 'goout',11:'Dalc', 12:'Walc',13: 'health',14: 'absences',15: 'grade', 16:'grade_above_threshold'})\n",
        "df_female_bl_av= generate_samples(female_bl_av_to_be_incresed,df_female_bl_av,'law').rename(columns={0:'isMale',1: 'urban_resident', 2:'studytime',3: 'failures', 4:'activities',5:'nursery',6: 'higher', 7:'internet',8: 'romantic', 9:'freetime',10: 'goout',11:'Dalc', 12:'Walc',13: 'health',14: 'absences',15: 'grade', 16:'grade_above_threshold'})\n"
      ]
    },
    {
      "cell_type": "code",
      "execution_count": null,
      "metadata": {
        "colab": {
          "base_uri": "https://localhost:8080/"
        },
        "id": "ukAJuUVOls5M",
        "outputId": "90eceb52-2dad-4a65-c630-0501c62019f7"
      },
      "outputs": [
        {
          "name": "stdout",
          "output_type": "stream",
          "text": [
            "The oversampled data has shape -- (1124, 17)\n"
          ]
        }
      ],
      "source": [
        "# combining all the oversampled subgroups \n",
        "\n",
        "df_female_ab_av= (df[(df['grade_above_threshold'] == 1) & (df['isMale'] == 0)])\n",
        "data_oversampled = df_female_ab_av.append([df_male_ab_av,df_male_bl_av,df_female_bl_av])\n",
        "\n",
        "print('The oversampled data has shape --',data_oversampled.shape)"
      ]
    },
    {
      "cell_type": "markdown",
      "metadata": {
        "id": "_9YP3AJRsMDx"
      },
      "source": [
        "## Removal of biased data points using situation testing\n"
      ]
    },
    {
      "cell_type": "code",
      "execution_count": null,
      "metadata": {
        "colab": {
          "base_uri": "https://localhost:8080/"
        },
        "id": "_KoJkD51jyv8",
        "outputId": "b137b0aa-fd76-412f-b75a-da0c075b9cb3"
      },
      "outputs": [],
      "source": [
        "import random \n",
        "\n",
        "data_oversampled['new_index'] = range(0,1124) # FairSMOTE implementation repeats indexes according to the subgrouped dfs\n",
        "data_oversampled = data_oversampled.set_index('new_index')\n",
        "X_train, y_train = data_oversampled.loc[:, data_oversampled.columns != 'grade_above_threshold'], data_oversampled['grade_above_threshold']\n",
        "\n",
        "\n",
        "clf = LogisticRegression(C=1.0, penalty='l2', solver='liblinear', max_iter=100)\n",
        "clf.fit(X_train,y_train)\n",
        "removal_list = []\n",
        "\n",
        "for index,row in X_train.iterrows():\n",
        "    row_ = [row.values[0:len(row.values)]]    \n",
        "    y_normal = clf.predict(row_)\n",
        "    # Here protected attribute value gets switched\n",
        "    if row_[0][0] == 0: # index of isMale is 0\n",
        "        row_[0][0] = 1\n",
        "    else:\n",
        "        row_[0][0] = 0    \n",
        "    y_reverse = clf.predict(row_)\n",
        "    if y_normal[0] != y_reverse[0]:\n",
        "        removal_list.append(index)\n"
      ]
    },
    {
      "cell_type": "markdown",
      "metadata": {
        "id": "0n5uqFsP9D1u"
      },
      "source": [
        "Note : CANNOT CHANGE A 0 VALUE TO 1, AS IT IS ONE-HOT ENCODED, IT CAN BE CHANGED TO 1 MAYBE : GOTTA DECIDE ON THIS; right now, ill change, lets say, the value from asian to any other race randomly;"
      ]
    },
    {
      "cell_type": "code",
      "execution_count": null,
      "metadata": {
        "colab": {
          "base_uri": "https://localhost:8080/"
        },
        "id": "4gvLUT1e6IFM",
        "outputId": "d128f65c-73c2-4367-9981-5e796c9c1fae"
      },
      "outputs": [
        {
          "name": "stdout",
          "output_type": "stream",
          "text": [
            " A total of 73 biased datapoints will be removed\n"
          ]
        }
      ],
      "source": [
        "removal_list = list(set(removal_list))\n",
        "print(f' A total of {len(removal_list)} biased datapoints will be removed')"
      ]
    },
    {
      "cell_type": "code",
      "execution_count": null,
      "metadata": {
        "colab": {
          "base_uri": "https://localhost:8080/"
        },
        "id": "RbKQvvuo81th",
        "outputId": "30febc77-f693-4480-b080-98e27c5d769f"
      },
      "outputs": [
        {
          "name": "stdout",
          "output_type": "stream",
          "text": [
            " Final dataset has 1051 instances\n"
          ]
        }
      ],
      "source": [
        "# removing biased datapoints are generating final report\n",
        "final = data_oversampled.drop(data_oversampled.index[list(set(removal_list))])\n",
        "print(f' Final dataset has {len(final)} instances')"
      ]
    },
    {
      "cell_type": "code",
      "execution_count": null,
      "metadata": {
        "id": "JZfQWXW1-l9m"
      },
      "outputs": [],
      "source": [
        "# saving the final dataset\n",
        "final.to_csv('/content/drive/Shareddrives/622 - Privacy/Project Codebase/CSV Data/fairSMOTE_oversampled_student_data.csv')"
      ]
    },
    {
      "cell_type": "markdown",
      "metadata": {
        "id": "ccz88jSer8Y7"
      },
      "source": [
        "# Evaluation"
      ]
    },
    {
      "cell_type": "markdown",
      "metadata": {
        "id": "K7J31uyc_lCW"
      },
      "source": [
        "##  Linear Regression  on oversampled data"
      ]
    },
    {
      "cell_type": "code",
      "execution_count": null,
      "metadata": {
        "colab": {
          "base_uri": "https://localhost:8080/"
        },
        "id": "kAVYWIWlrNqy",
        "outputId": "09179a53-293b-4e7c-c3a5-cdb644793dc6"
      },
      "outputs": [
        {
          "name": "stdout",
          "output_type": "stream",
          "text": [
            "Intercept:  0.586399855067171\n",
            "Root Mean Square Error:  0.16883693942214495\n",
            "R^2 Value:  0.142367264379046\n"
          ]
        }
      ],
      "source": [
        "# training a linear regression model which will be used for evaluation\n",
        "# Regression with Protected attribute Gender \n",
        "data_oversampled = final\n",
        "data_oversampled_onlygrade = data_oversampled.drop('grade_above_threshold',axis = 1) # removing binary column that was generated\n",
        "\n",
        "df = data_oversampled_onlygrade\n",
        "\n",
        "X = df.iloc[:,df.columns != 'grade']\n",
        "Y = df['grade']\n",
        "X_train, X_test, Y_train, Y_test = train_test_split(X, Y, test_size=0.2, random_state= 0)\n",
        "\n",
        "model = linear_model.LinearRegression()\n",
        "model.fit(X_train, Y_train)\n",
        "y_pred_w_prot_attr = model.predict(X_test)\n",
        "\n",
        "rmsd = np.sqrt(mean_squared_error(Y_test, y_pred_w_prot_attr))      \n",
        "r2_value = r2_score(Y_test, y_pred_w_prot_attr)                     \n",
        "\n",
        "print(\"Intercept: \", model.intercept_)\n",
        "print(\"Root Mean Square Error: \", rmsd)\n",
        "print(\"R^2 Value: \", r2_value)"
      ]
    },
    {
      "cell_type": "code",
      "execution_count": null,
      "metadata": {
        "colab": {
          "base_uri": "https://localhost:8080/"
        },
        "id": "r_g8w2AG3JSV",
        "outputId": "a8abc604-6a03-4cbb-c6bb-871a81d384ad"
      },
      "outputs": [
        {
          "name": "stdout",
          "output_type": "stream",
          "text": [
            "Intercept:  0.5877044807074037\n",
            "Root Mean Square Error:  0.1687644808435237\n",
            "R^2 Value:  0.14310323500854194\n"
          ]
        }
      ],
      "source": [
        "# without protected attribute\n",
        "\n",
        "_df = df.drop(['isMale'], axis = 1)\n",
        "X = _df.iloc[:,_df.columns != 'grade']\n",
        "Y = _df['grade']\n",
        "X_train, X_test, Y_train, Y_test = train_test_split(X, Y, test_size=0.2, random_state= 0)\n",
        "\n",
        "model = linear_model.LinearRegression()\n",
        "model.fit(X_train, Y_train)\n",
        "y_pred_wo_prot_attr = model.predict(X_test)\n",
        "\n",
        "rmsd = np.sqrt(mean_squared_error(Y_test, y_pred_wo_prot_attr))      \n",
        "r2_value = r2_score(Y_test, y_pred_wo_prot_attr)                     \n",
        "\n",
        "print(\"Intercept: \", model.intercept_)\n",
        "print(\"Root Mean Square Error: \", rmsd)\n",
        "print(\"R^2 Value: \", r2_value)"
      ]
    },
    {
      "cell_type": "code",
      "execution_count": null,
      "metadata": {
        "colab": {
          "base_uri": "https://localhost:8080/"
        },
        "id": "r1EYiE883kyY",
        "outputId": "bf759c45-8704-42eb-c297-df131b16d08d"
      },
      "outputs": [
        {
          "name": "stdout",
          "output_type": "stream",
          "text": [
            "Statistical Parity is  0.009478672985781977\n"
          ]
        }
      ],
      "source": [
        "# Statistical Parity\n",
        "\n",
        "counter = 0\n",
        "for entry in y_pred_w_prot_attr:\n",
        "  if entry > threshold : counter+=1\n",
        "prob_w_prot_attr = counter/len(y_pred_w_prot_attr)\n",
        "\n",
        "\n",
        "counter = 0\n",
        "for entry in y_pred_wo_prot_attr:\n",
        "  if entry > threshold : counter+=1\n",
        "prob_wo_prot_attr = counter/len(y_pred_wo_prot_attr)\n",
        "\n",
        "print('Statistical Parity is ', abs(prob_w_prot_attr-prob_wo_prot_attr))\n"
      ]
    },
    {
      "cell_type": "code",
      "execution_count": null,
      "metadata": {
        "colab": {
          "base_uri": "https://localhost:8080/"
        },
        "id": "a5sh-6uExskI",
        "outputId": "a83ca755-c251-4cd5-fd56-27f332fd888c"
      },
      "outputs": [
        {
          "name": "stdout",
          "output_type": "stream",
          "text": [
            "0.12260118371191786\n"
          ]
        },
        {
          "name": "stderr",
          "output_type": "stream",
          "text": [
            "/usr/local/lib/python3.7/dist-packages/fairlearn/metrics/_metric_frame.py:67: FutureWarning: You have provided 'metrics', 'y_true', 'y_pred' as positional arguments. Please pass them as keyword arguments. From version 0.10.0 passing them as positional arguments will result in an error.\n",
            "  FutureWarning)\n"
          ]
        }
      ],
      "source": [
        "# Bounded Group Loss \n",
        "\n",
        "X = df.iloc[:,df.columns != 'grade']\n",
        "Y = df['grade']\n",
        "X_train, X_test, Y_train, Y_test = train_test_split(X, Y, test_size=0.2, random_state= 0)\n",
        "\n",
        "bgl = BoundedGroupLoss(ZeroOneLoss(), upper_bound=0.1)\n",
        "sensitive_features = np.array(list(X_test['isMale'].values))\n",
        "mae_frame = MetricFrame(mean_absolute_error,\n",
        "                        Y_test, y_pred_w_prot_attr,\n",
        "                        sensitive_features=pd.Series(sensitive_features, name=\"SF 0\"))\n",
        "print(mae_frame.overall)"
      ]
    }
  ],
  "metadata": {
    "colab": {
      "collapsed_sections": [],
      "name": "StudentDataset_firstQuartile.ipynb",
      "provenance": [],
      "toc_visible": true
    },
    "kernelspec": {
      "display_name": "Python 3",
      "name": "python3"
    },
    "language_info": {
      "name": "python"
    }
  },
  "nbformat": 4,
  "nbformat_minor": 0
}
