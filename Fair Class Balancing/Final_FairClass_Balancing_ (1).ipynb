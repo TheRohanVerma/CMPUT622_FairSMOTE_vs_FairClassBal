{
  "nbformat": 4,
  "nbformat_minor": 0,
  "metadata": {
    "colab": {
      "name": "Final FairClass Balancing .ipynb",
      "provenance": [],
      "collapsed_sections": []
    },
    "kernelspec": {
      "name": "python3",
      "display_name": "Python 3"
    },
    "language_info": {
      "name": "python"
    }
  },
  "cells": [
    {
      "cell_type": "code",
      "metadata": {
        "id": "yM2cyPNt91pV",
        "colab": {
          "base_uri": "https://localhost:8080/"
        },
        "outputId": "837548c7-a314-4976-c9d3-0c73625b520b"
      },
      "source": [
        "! pip install fairlearn\n",
        "import random\n",
        "import pandas as pd\n",
        "import random,time,csv\n",
        "import numpy as np\n",
        "import math,copy,os\n",
        "from sklearn.linear_model import LogisticRegression\n",
        "from sklearn.tree import DecisionTreeRegressor\n",
        "from sklearn.model_selection import train_test_split\n",
        "from sklearn.metrics import classification_report, confusion_matrix, accuracy_score\n",
        "from sklearn import tree\n",
        "from sklearn.naive_bayes import GaussianNB\n",
        "from sklearn.ensemble import RandomForestClassifier\n",
        "from sklearn.svm import SVC\n",
        "import sklearn.metrics as metrics\n",
        "import os\n",
        "import tempfile\n",
        "import pandas as pd\n",
        "import six.moves.urllib as urllib\n",
        "import pprint\n",
        "import numpy as np\n",
        "from pandas import read_csv\n",
        "import matplotlib.pyplot as plt\n",
        "from sklearn.cluster import KMeans\n",
        "from sklearn import preprocessing\n",
        "from sklearn.linear_model import LinearRegression\n",
        "from google.colab import files\n",
        "from fairlearn.reductions import BoundedGroupLoss, ZeroOneLoss\n",
        "from sklearn.metrics import mean_absolute_error\n",
        "import pandas as pd\n",
        "import matplotlib.pyplot as plt\n",
        "import numpy as np\n",
        "\n",
        "from sklearn import linear_model\n",
        "from sklearn.metrics import mean_squared_error, r2_score\n",
        "from sklearn.model_selection import train_test_split\n",
        "from fairlearn.metrics import MetricFrame, selection_rate\n",
        "from sklearn.preprocessing import MinMaxScaler\n",
        "\n"
      ],
      "execution_count": null,
      "outputs": [
        {
          "output_type": "stream",
          "name": "stdout",
          "text": [
            "Collecting fairlearn\n",
            "  Downloading fairlearn-0.7.0-py3-none-any.whl (177 kB)\n",
            "\u001b[?25l\r\u001b[K     |█▉                              | 10 kB 32.4 MB/s eta 0:00:01\r\u001b[K     |███▊                            | 20 kB 37.9 MB/s eta 0:00:01\r\u001b[K     |█████▌                          | 30 kB 28.7 MB/s eta 0:00:01\r\u001b[K     |███████▍                        | 40 kB 19.2 MB/s eta 0:00:01\r\u001b[K     |█████████▎                      | 51 kB 14.3 MB/s eta 0:00:01\r\u001b[K     |███████████                     | 61 kB 10.4 MB/s eta 0:00:01\r\u001b[K     |█████████████                   | 71 kB 11.6 MB/s eta 0:00:01\r\u001b[K     |██████████████▊                 | 81 kB 12.9 MB/s eta 0:00:01\r\u001b[K     |████████████████▋               | 92 kB 11.7 MB/s eta 0:00:01\r\u001b[K     |██████████████████▌             | 102 kB 12.4 MB/s eta 0:00:01\r\u001b[K     |████████████████████▎           | 112 kB 12.4 MB/s eta 0:00:01\r\u001b[K     |██████████████████████▏         | 122 kB 12.4 MB/s eta 0:00:01\r\u001b[K     |████████████████████████        | 133 kB 12.4 MB/s eta 0:00:01\r\u001b[K     |█████████████████████████▉      | 143 kB 12.4 MB/s eta 0:00:01\r\u001b[K     |███████████████████████████▊    | 153 kB 12.4 MB/s eta 0:00:01\r\u001b[K     |█████████████████████████████▌  | 163 kB 12.4 MB/s eta 0:00:01\r\u001b[K     |███████████████████████████████▍| 174 kB 12.4 MB/s eta 0:00:01\r\u001b[K     |████████████████████████████████| 177 kB 12.4 MB/s \n",
            "\u001b[?25hRequirement already satisfied: numpy>=1.17.2 in /usr/local/lib/python3.7/dist-packages (from fairlearn) (1.19.5)\n",
            "Requirement already satisfied: scikit-learn>=0.22.1 in /usr/local/lib/python3.7/dist-packages (from fairlearn) (1.0.1)\n",
            "Requirement already satisfied: scipy>=1.4.1 in /usr/local/lib/python3.7/dist-packages (from fairlearn) (1.4.1)\n",
            "Requirement already satisfied: pandas>=0.25.1 in /usr/local/lib/python3.7/dist-packages (from fairlearn) (1.1.5)\n",
            "Requirement already satisfied: python-dateutil>=2.7.3 in /usr/local/lib/python3.7/dist-packages (from pandas>=0.25.1->fairlearn) (2.8.2)\n",
            "Requirement already satisfied: pytz>=2017.2 in /usr/local/lib/python3.7/dist-packages (from pandas>=0.25.1->fairlearn) (2018.9)\n",
            "Requirement already satisfied: six>=1.5 in /usr/local/lib/python3.7/dist-packages (from python-dateutil>=2.7.3->pandas>=0.25.1->fairlearn) (1.15.0)\n",
            "Requirement already satisfied: joblib>=0.11 in /usr/local/lib/python3.7/dist-packages (from scikit-learn>=0.22.1->fairlearn) (1.1.0)\n",
            "Requirement already satisfied: threadpoolctl>=2.0.0 in /usr/local/lib/python3.7/dist-packages (from scikit-learn>=0.22.1->fairlearn) (3.0.0)\n",
            "Installing collected packages: fairlearn\n",
            "Successfully installed fairlearn-0.7.0\n"
          ]
        }
      ]
    },
    {
      "cell_type": "markdown",
      "metadata": {
        "id": "Byq2U5jwuIzB"
      },
      "source": [
        "# Reading the Database"
      ]
    },
    {
      "cell_type": "code",
      "metadata": {
        "id": "KKUZ8Poa9sHc"
      },
      "source": [
        "_DATA_PATH = 'https://storage.googleapis.com/lawschool_dataset/bar_pass_prediction.csv'\n",
        "# _DATA_FILEPATH = os.path.join(_DATA_ROOT, 'bar_pass_prediction.csv')\n",
        " \n",
        "data = urllib.request.urlopen(_DATA_PATH)\n",
        " \n",
        "_LSAT_DF = pd.read_csv(data)\n",
        " \n",
        "# To simpliy the case study, we will only use the columns that will be used for\n",
        "# our model.\n",
        "_COLUMN_NAMES = [\n",
        "  'dnn_bar_pass_prediction',\n",
        "  'gender',\n",
        "  'lsat',\n",
        "  'pass_bar',\n",
        "  'race1',\n",
        "  'ugpa',\n",
        "]\n",
        " \n",
        "_LSAT_DF.dropna()\n",
        "_LSAT_DF['gender'] = _LSAT_DF['gender'].astype(str)\n",
        "_LSAT_DF['race1'] = _LSAT_DF['race1'].astype(str)\n",
        "df = _LSAT_DF[_COLUMN_NAMES]"
      ],
      "execution_count": null,
      "outputs": []
    },
    {
      "cell_type": "code",
      "metadata": {
        "colab": {
          "base_uri": "https://localhost:8080/",
          "height": 300
        },
        "id": "wj3k1p213FIF",
        "outputId": "b6c0f798-fe72-4856-e0cf-121981a07cb7"
      },
      "source": [
        "df.describe()\n",
        "# temp = list(df.ugpa.values)\n",
        "#temp.sort()\n",
        "#print(temp[len(temp)//2])"
      ],
      "execution_count": null,
      "outputs": [
        {
          "output_type": "execute_result",
          "data": {
            "text/html": [
              "<div>\n",
              "<style scoped>\n",
              "    .dataframe tbody tr th:only-of-type {\n",
              "        vertical-align: middle;\n",
              "    }\n",
              "\n",
              "    .dataframe tbody tr th {\n",
              "        vertical-align: top;\n",
              "    }\n",
              "\n",
              "    .dataframe thead th {\n",
              "        text-align: right;\n",
              "    }\n",
              "</style>\n",
              "<table border=\"1\" class=\"dataframe\">\n",
              "  <thead>\n",
              "    <tr style=\"text-align: right;\">\n",
              "      <th></th>\n",
              "      <th>dnn_bar_pass_prediction</th>\n",
              "      <th>lsat</th>\n",
              "      <th>pass_bar</th>\n",
              "      <th>ugpa</th>\n",
              "    </tr>\n",
              "  </thead>\n",
              "  <tbody>\n",
              "    <tr>\n",
              "      <th>count</th>\n",
              "      <td>22407.000000</td>\n",
              "      <td>22407.000000</td>\n",
              "      <td>22407.000000</td>\n",
              "      <td>22407.000000</td>\n",
              "    </tr>\n",
              "    <tr>\n",
              "      <th>mean</th>\n",
              "      <td>0.980682</td>\n",
              "      <td>36.767907</td>\n",
              "      <td>0.947829</td>\n",
              "      <td>3.215451</td>\n",
              "    </tr>\n",
              "    <tr>\n",
              "      <th>std</th>\n",
              "      <td>0.022594</td>\n",
              "      <td>5.463248</td>\n",
              "      <td>0.222377</td>\n",
              "      <td>0.404073</td>\n",
              "    </tr>\n",
              "    <tr>\n",
              "      <th>min</th>\n",
              "      <td>0.330740</td>\n",
              "      <td>11.000000</td>\n",
              "      <td>0.000000</td>\n",
              "      <td>1.500000</td>\n",
              "    </tr>\n",
              "    <tr>\n",
              "      <th>25%</th>\n",
              "      <td>0.971071</td>\n",
              "      <td>33.000000</td>\n",
              "      <td>1.000000</td>\n",
              "      <td>3.000000</td>\n",
              "    </tr>\n",
              "    <tr>\n",
              "      <th>50%</th>\n",
              "      <td>0.983144</td>\n",
              "      <td>37.000000</td>\n",
              "      <td>1.000000</td>\n",
              "      <td>3.200000</td>\n",
              "    </tr>\n",
              "    <tr>\n",
              "      <th>75%</th>\n",
              "      <td>0.996526</td>\n",
              "      <td>41.000000</td>\n",
              "      <td>1.000000</td>\n",
              "      <td>3.500000</td>\n",
              "    </tr>\n",
              "    <tr>\n",
              "      <th>max</th>\n",
              "      <td>0.999698</td>\n",
              "      <td>48.000000</td>\n",
              "      <td>1.000000</td>\n",
              "      <td>3.900000</td>\n",
              "    </tr>\n",
              "  </tbody>\n",
              "</table>\n",
              "</div>"
            ],
            "text/plain": [
              "       dnn_bar_pass_prediction          lsat      pass_bar          ugpa\n",
              "count             22407.000000  22407.000000  22407.000000  22407.000000\n",
              "mean                  0.980682     36.767907      0.947829      3.215451\n",
              "std                   0.022594      5.463248      0.222377      0.404073\n",
              "min                   0.330740     11.000000      0.000000      1.500000\n",
              "25%                   0.971071     33.000000      1.000000      3.000000\n",
              "50%                   0.983144     37.000000      1.000000      3.200000\n",
              "75%                   0.996526     41.000000      1.000000      3.500000\n",
              "max                   0.999698     48.000000      1.000000      3.900000"
            ]
          },
          "metadata": {},
          "execution_count": 7
        }
      ]
    },
    {
      "cell_type": "code",
      "metadata": {
        "colab": {
          "base_uri": "https://localhost:8080/"
        },
        "id": "GVT3VCyh9w7a",
        "outputId": "e13f7c29-fb41-4731-d2be-9d3804313a08"
      },
      "source": [
        "print(df.shape)\n",
        "df.head()\n",
        "df['race1'].value_counts()\n",
        "#df['race1'].value_counts()"
      ],
      "execution_count": null,
      "outputs": [
        {
          "output_type": "stream",
          "name": "stdout",
          "text": [
            "(22407, 6)\n"
          ]
        },
        {
          "output_type": "execute_result",
          "data": {
            "text/plain": [
              "white    18716\n",
              "black     1343\n",
              "hisp      1027\n",
              "asian      897\n",
              "other      408\n",
              "nan         16\n",
              "Name: race1, dtype: int64"
            ]
          },
          "metadata": {},
          "execution_count": 70
        }
      ]
    },
    {
      "cell_type": "markdown",
      "metadata": {
        "id": "vfTcRf0NuMVE"
      },
      "source": [
        "# One Hot Encoding the Categorical Values"
      ]
    },
    {
      "cell_type": "code",
      "metadata": {
        "colab": {
          "base_uri": "https://localhost:8080/"
        },
        "id": "RVmPPThP967c",
        "outputId": "b05d413f-1dd6-4cd9-f7a6-43278a734b7f"
      },
      "source": [
        "dataset_orig = df\n",
        "dataset_orig = dataset_orig.dropna()\n",
        "dataset_orig =  dataset_orig[(dataset_orig.race1 == 'white') | (dataset_orig.race1 == 'black')|(dataset_orig.race1 == 'hisp')|(dataset_orig.race1 == 'asian')]\n",
        "\n",
        "dataset_orig['gender'] = np.where(dataset_orig['gender'] == 'male', 1, 0)\n",
        "races = list(dataset_orig['race1'].values)\n",
        "numRaces = []\n",
        "for race in races:\n",
        "  if race == \"white\":numRaces.append(0)\n",
        "  elif race == \"black\" : numRaces.append(1)\n",
        "  elif race == \"hisp\" : numRaces.append(2)\n",
        "  elif race == \"asian\" : numRaces.append(3)\n",
        "\n",
        "\n",
        "dataset_orig['race1'] = numRaces\n",
        "dataset_orig['race1'].value_counts()\n",
        "# scaler = MinMaxScaler()\n",
        "# cols = list(dataset_orig.columns)[:-2]\n",
        "# dataset_orig[cols] = pd.DataFrame(scaler.fit_transform(dataset_orig[cols]),columns = cols)\n",
        "# dataset_orig=dataset_orig.dropna()\n"
      ],
      "execution_count": null,
      "outputs": [
        {
          "output_type": "execute_result",
          "data": {
            "text/plain": [
              "0    18716\n",
              "1     1343\n",
              "2     1027\n",
              "3      897\n",
              "Name: race1, dtype: int64"
            ]
          },
          "metadata": {},
          "execution_count": 71
        }
      ]
    },
    {
      "cell_type": "code",
      "metadata": {
        "colab": {
          "base_uri": "https://localhost:8080/",
          "height": 206
        },
        "id": "68GMdH8fuJ8p",
        "outputId": "0dcedaa1-9043-4a83-8fb0-440cc5dd3026"
      },
      "source": [
        "dataset_orig.head()"
      ],
      "execution_count": null,
      "outputs": [
        {
          "output_type": "execute_result",
          "data": {
            "text/html": [
              "<div>\n",
              "<style scoped>\n",
              "    .dataframe tbody tr th:only-of-type {\n",
              "        vertical-align: middle;\n",
              "    }\n",
              "\n",
              "    .dataframe tbody tr th {\n",
              "        vertical-align: top;\n",
              "    }\n",
              "\n",
              "    .dataframe thead th {\n",
              "        text-align: right;\n",
              "    }\n",
              "</style>\n",
              "<table border=\"1\" class=\"dataframe\">\n",
              "  <thead>\n",
              "    <tr style=\"text-align: right;\">\n",
              "      <th></th>\n",
              "      <th>dnn_bar_pass_prediction</th>\n",
              "      <th>gender</th>\n",
              "      <th>lsat</th>\n",
              "      <th>pass_bar</th>\n",
              "      <th>race1</th>\n",
              "      <th>ugpa</th>\n",
              "    </tr>\n",
              "  </thead>\n",
              "  <tbody>\n",
              "    <tr>\n",
              "      <th>0</th>\n",
              "      <td>0.979804</td>\n",
              "      <td>0</td>\n",
              "      <td>44.0</td>\n",
              "      <td>1.0</td>\n",
              "      <td>0</td>\n",
              "      <td>3.5</td>\n",
              "    </tr>\n",
              "    <tr>\n",
              "      <th>1</th>\n",
              "      <td>0.979804</td>\n",
              "      <td>0</td>\n",
              "      <td>29.0</td>\n",
              "      <td>1.0</td>\n",
              "      <td>0</td>\n",
              "      <td>3.5</td>\n",
              "    </tr>\n",
              "    <tr>\n",
              "      <th>2</th>\n",
              "      <td>0.979804</td>\n",
              "      <td>1</td>\n",
              "      <td>36.0</td>\n",
              "      <td>1.0</td>\n",
              "      <td>0</td>\n",
              "      <td>3.5</td>\n",
              "    </tr>\n",
              "    <tr>\n",
              "      <th>3</th>\n",
              "      <td>0.979804</td>\n",
              "      <td>1</td>\n",
              "      <td>39.0</td>\n",
              "      <td>1.0</td>\n",
              "      <td>0</td>\n",
              "      <td>3.5</td>\n",
              "    </tr>\n",
              "    <tr>\n",
              "      <th>4</th>\n",
              "      <td>0.979804</td>\n",
              "      <td>1</td>\n",
              "      <td>48.0</td>\n",
              "      <td>1.0</td>\n",
              "      <td>0</td>\n",
              "      <td>3.5</td>\n",
              "    </tr>\n",
              "  </tbody>\n",
              "</table>\n",
              "</div>"
            ],
            "text/plain": [
              "   dnn_bar_pass_prediction  gender  lsat  pass_bar  race1  ugpa\n",
              "0                 0.979804       0  44.0       1.0      0   3.5\n",
              "1                 0.979804       0  29.0       1.0      0   3.5\n",
              "2                 0.979804       1  36.0       1.0      0   3.5\n",
              "3                 0.979804       1  39.0       1.0      0   3.5\n",
              "4                 0.979804       1  48.0       1.0      0   3.5"
            ]
          },
          "metadata": {},
          "execution_count": 72
        }
      ]
    },
    {
      "cell_type": "code",
      "metadata": {
        "id": "3Unp8tht-LsY"
      },
      "source": [
        "X, y= dataset_orig.loc[:, dataset_orig.columns != 'ugpa'], dataset_orig['ugpa']\n",
        "\n"
      ],
      "execution_count": null,
      "outputs": []
    },
    {
      "cell_type": "code",
      "metadata": {
        "colab": {
          "base_uri": "https://localhost:8080/",
          "height": 206
        },
        "id": "YlEBp7Oftwnq",
        "outputId": "83d2d9df-f0f3-4020-9011-406d7aac2257"
      },
      "source": [
        "X.head()"
      ],
      "execution_count": null,
      "outputs": [
        {
          "output_type": "execute_result",
          "data": {
            "text/html": [
              "<div>\n",
              "<style scoped>\n",
              "    .dataframe tbody tr th:only-of-type {\n",
              "        vertical-align: middle;\n",
              "    }\n",
              "\n",
              "    .dataframe tbody tr th {\n",
              "        vertical-align: top;\n",
              "    }\n",
              "\n",
              "    .dataframe thead th {\n",
              "        text-align: right;\n",
              "    }\n",
              "</style>\n",
              "<table border=\"1\" class=\"dataframe\">\n",
              "  <thead>\n",
              "    <tr style=\"text-align: right;\">\n",
              "      <th></th>\n",
              "      <th>dnn_bar_pass_prediction</th>\n",
              "      <th>gender</th>\n",
              "      <th>lsat</th>\n",
              "      <th>pass_bar</th>\n",
              "      <th>race1</th>\n",
              "    </tr>\n",
              "  </thead>\n",
              "  <tbody>\n",
              "    <tr>\n",
              "      <th>0</th>\n",
              "      <td>0.979804</td>\n",
              "      <td>0</td>\n",
              "      <td>44.0</td>\n",
              "      <td>1.0</td>\n",
              "      <td>0</td>\n",
              "    </tr>\n",
              "    <tr>\n",
              "      <th>1</th>\n",
              "      <td>0.979804</td>\n",
              "      <td>0</td>\n",
              "      <td>29.0</td>\n",
              "      <td>1.0</td>\n",
              "      <td>0</td>\n",
              "    </tr>\n",
              "    <tr>\n",
              "      <th>2</th>\n",
              "      <td>0.979804</td>\n",
              "      <td>1</td>\n",
              "      <td>36.0</td>\n",
              "      <td>1.0</td>\n",
              "      <td>0</td>\n",
              "    </tr>\n",
              "    <tr>\n",
              "      <th>3</th>\n",
              "      <td>0.979804</td>\n",
              "      <td>1</td>\n",
              "      <td>39.0</td>\n",
              "      <td>1.0</td>\n",
              "      <td>0</td>\n",
              "    </tr>\n",
              "    <tr>\n",
              "      <th>4</th>\n",
              "      <td>0.979804</td>\n",
              "      <td>1</td>\n",
              "      <td>48.0</td>\n",
              "      <td>1.0</td>\n",
              "      <td>0</td>\n",
              "    </tr>\n",
              "  </tbody>\n",
              "</table>\n",
              "</div>"
            ],
            "text/plain": [
              "   dnn_bar_pass_prediction  gender  lsat  pass_bar  race1\n",
              "0                 0.979804       0  44.0       1.0      0\n",
              "1                 0.979804       0  29.0       1.0      0\n",
              "2                 0.979804       1  36.0       1.0      0\n",
              "3                 0.979804       1  39.0       1.0      0\n",
              "4                 0.979804       1  48.0       1.0      0"
            ]
          },
          "metadata": {},
          "execution_count": 74
        }
      ]
    },
    {
      "cell_type": "markdown",
      "metadata": {
        "id": "6NuK1sEouSIj"
      },
      "source": [
        "# Clustering the Entry Points using K Mean"
      ]
    },
    {
      "cell_type": "code",
      "metadata": {
        "id": "mvpmxyTa-Q-g"
      },
      "source": [
        "kmean = KMeans(n_clusters = 5, random_state=1)\n",
        "kmean.fit(X)\n",
        "KMeans(algorithm='auto', \n",
        "       copy_x=True, \n",
        "       init='k-means++', # selects initial cluster centers\n",
        "       max_iter=300,\n",
        "       n_clusters=5, \n",
        "       n_init=10, \n",
        "       random_state=1, \n",
        "       tol=0.0001, # min. tolerance for distance between clusters\n",
        "       verbose=0)\n",
        "clusters = list(kmean.predict(X))\n",
        "centroids   = kmean.cluster_centers_  \n",
        "dataset_orig['clusters'] = clusters\n",
        "X = X.to_numpy()\n",
        "thresholdDistance = []\n",
        "for i in range(len(clusters)):\n",
        "  thresholdDistance.append(np.linalg.norm(X[i]-centroids[clusters[i]]))\n",
        "dataset_orig['thresholdDistance'] = thresholdDistance"
      ],
      "execution_count": null,
      "outputs": []
    },
    {
      "cell_type": "code",
      "metadata": {
        "colab": {
          "base_uri": "https://localhost:8080/",
          "height": 206
        },
        "id": "j-agzHxm-Uc1",
        "outputId": "1005917a-1d40-4baa-e6cc-961f23b6cfe8"
      },
      "source": [
        "dataset_orig.head()"
      ],
      "execution_count": null,
      "outputs": [
        {
          "output_type": "execute_result",
          "data": {
            "text/html": [
              "<div>\n",
              "<style scoped>\n",
              "    .dataframe tbody tr th:only-of-type {\n",
              "        vertical-align: middle;\n",
              "    }\n",
              "\n",
              "    .dataframe tbody tr th {\n",
              "        vertical-align: top;\n",
              "    }\n",
              "\n",
              "    .dataframe thead th {\n",
              "        text-align: right;\n",
              "    }\n",
              "</style>\n",
              "<table border=\"1\" class=\"dataframe\">\n",
              "  <thead>\n",
              "    <tr style=\"text-align: right;\">\n",
              "      <th></th>\n",
              "      <th>dnn_bar_pass_prediction</th>\n",
              "      <th>gender</th>\n",
              "      <th>lsat</th>\n",
              "      <th>pass_bar</th>\n",
              "      <th>race1</th>\n",
              "      <th>ugpa</th>\n",
              "      <th>clusters</th>\n",
              "      <th>thresholdDistance</th>\n",
              "    </tr>\n",
              "  </thead>\n",
              "  <tbody>\n",
              "    <tr>\n",
              "      <th>0</th>\n",
              "      <td>0.979804</td>\n",
              "      <td>0</td>\n",
              "      <td>44.0</td>\n",
              "      <td>1.0</td>\n",
              "      <td>0</td>\n",
              "      <td>3.5</td>\n",
              "      <td>2</td>\n",
              "      <td>1.136374</td>\n",
              "    </tr>\n",
              "    <tr>\n",
              "      <th>1</th>\n",
              "      <td>0.979804</td>\n",
              "      <td>0</td>\n",
              "      <td>29.0</td>\n",
              "      <td>1.0</td>\n",
              "      <td>0</td>\n",
              "      <td>3.5</td>\n",
              "      <td>3</td>\n",
              "      <td>2.996741</td>\n",
              "    </tr>\n",
              "    <tr>\n",
              "      <th>2</th>\n",
              "      <td>0.979804</td>\n",
              "      <td>1</td>\n",
              "      <td>36.0</td>\n",
              "      <td>1.0</td>\n",
              "      <td>0</td>\n",
              "      <td>3.5</td>\n",
              "      <td>4</td>\n",
              "      <td>0.674153</td>\n",
              "    </tr>\n",
              "    <tr>\n",
              "      <th>3</th>\n",
              "      <td>0.979804</td>\n",
              "      <td>1</td>\n",
              "      <td>39.0</td>\n",
              "      <td>1.0</td>\n",
              "      <td>0</td>\n",
              "      <td>3.5</td>\n",
              "      <td>0</td>\n",
              "      <td>1.463009</td>\n",
              "    </tr>\n",
              "    <tr>\n",
              "      <th>4</th>\n",
              "      <td>0.979804</td>\n",
              "      <td>1</td>\n",
              "      <td>48.0</td>\n",
              "      <td>1.0</td>\n",
              "      <td>0</td>\n",
              "      <td>3.5</td>\n",
              "      <td>2</td>\n",
              "      <td>3.091541</td>\n",
              "    </tr>\n",
              "  </tbody>\n",
              "</table>\n",
              "</div>"
            ],
            "text/plain": [
              "   dnn_bar_pass_prediction  gender  lsat  ...  ugpa  clusters  thresholdDistance\n",
              "0                 0.979804       0  44.0  ...   3.5         2           1.136374\n",
              "1                 0.979804       0  29.0  ...   3.5         3           2.996741\n",
              "2                 0.979804       1  36.0  ...   3.5         4           0.674153\n",
              "3                 0.979804       1  39.0  ...   3.5         0           1.463009\n",
              "4                 0.979804       1  48.0  ...   3.5         2           3.091541\n",
              "\n",
              "[5 rows x 8 columns]"
            ]
          },
          "metadata": {},
          "execution_count": 76
        }
      ]
    },
    {
      "cell_type": "code",
      "metadata": {
        "colab": {
          "base_uri": "https://localhost:8080/"
        },
        "id": "Xt8M7GKK-ac9",
        "outputId": "5d70f835-ff37-4159-884b-90a4e9129600"
      },
      "source": [
        "cluster0 = dataset_orig[dataset_orig['clusters'] == 3]\n",
        "cluster0['race1'].value_counts()"
      ],
      "execution_count": null,
      "outputs": [
        {
          "output_type": "execute_result",
          "data": {
            "text/plain": [
              "0    912\n",
              "1    703\n",
              "2    267\n",
              "3     99\n",
              "Name: race1, dtype: int64"
            ]
          },
          "metadata": {},
          "execution_count": 77
        }
      ]
    },
    {
      "cell_type": "markdown",
      "metadata": {
        "id": "VrsxhVJ5uYCx"
      },
      "source": [
        "# Fair Class Balancing"
      ]
    },
    {
      "cell_type": "code",
      "metadata": {
        "id": "-Om6Kd-z-oyQ"
      },
      "source": [
        "# y = x + rand(0,1)(x-x')\n",
        "#Smote from synthetic datapoints / orginal points\n",
        "#Smote generatd from my clan\n",
        "\n",
        "smoteCluster = pd.DataFrame()\n",
        "for clusterIndex in range(5):\n",
        "  cluster0 = dataset_orig[dataset_orig['clusters'] == clusterIndex]\n",
        "  raceCount = cluster0['race1'].value_counts().to_dict()\n",
        "  tempRace = [0,0,0,0]\n",
        "  for indRace in raceCount:tempRace[indRace]=raceCount[indRace]\n",
        "  raceCount = tempRace\n",
        "  clusterminimaIndex = tempRace.index(min(tempRace))\n",
        "  maximaValue = max(raceCount)\n",
        "  cluster0_3 = cluster0[cluster0['race1'] == clusterminimaIndex]\n",
        "  cluster0_3 = cluster0_3.drop('clusters', 1)\n",
        "  cluster0_3 = cluster0_3.drop('race1', 1)\n",
        "  fCols = list(cluster0_3.columns)\n",
        "  temp = cluster0_3.to_numpy()\n",
        "  index = 0\n",
        "  smoteData = []\n",
        "  major_minor = maximaValue - raceCount[clusterminimaIndex]\n",
        "  while len(smoteData) !=major_minor:\n",
        "    entryPoint = temp[index%raceCount[clusterminimaIndex]]\n",
        "    src = entryPoint[-1]\n",
        "    minimaDistance = float(\"inf\")\n",
        "    minimaIndex = index%raceCount[clusterminimaIndex]\n",
        "    for i in range(len(temp)):\n",
        "      if i==index:continue\n",
        "      dst = temp[i][-1]\n",
        "      \n",
        "      dist = abs(src-dst)\n",
        "      if dst<minimaDistance:\n",
        "        minimaDistance = dst\n",
        "        minimaIndex = i\n",
        "    newPoint = entryPoint + random.uniform(0,1)*(temp[minimaIndex])\n",
        "    smoteData.append(newPoint)\n",
        "    index+=1\n",
        "  smoteData = np.array(smoteData)\n",
        "  temp = np.concatenate((temp, smoteData), axis=0)\n",
        "  df = pd.DataFrame(data=temp, columns=fCols)\n",
        "  rows = df.shape[0]\n",
        "  df['race1'] = [clusterminimaIndex]*rows\n",
        "  df['clusters'] = [clusterIndex]*rows\n",
        "  cluster0 = cluster0[cluster0['race1']!=clusterminimaIndex]\n",
        "  cluster0 = cluster0.append(df)\n",
        "  smoteCluster = smoteCluster.append(cluster0)"
      ],
      "execution_count": null,
      "outputs": []
    },
    {
      "cell_type": "code",
      "metadata": {
        "colab": {
          "base_uri": "https://localhost:8080/"
        },
        "id": "7IM71y6X-2-E",
        "outputId": "bddd57a2-cf11-45af-b6b8-1d5baaff7eed"
      },
      "source": [
        "for i in range(5):\n",
        "  print('------Before Fair Class Balancing: Cluster 0----------')\n",
        "  tempData = dataset_orig[dataset_orig['clusters'] == i]\n",
        "  print(tempData['race1'].value_counts())\n",
        "  print('*'*20)\n",
        "  tempData = smoteCluster[smoteCluster['clusters'] == i]\n",
        "  print(tempData['race1'].value_counts())\n",
        "  print('-'*20)  "
      ],
      "execution_count": null,
      "outputs": [
        {
          "output_type": "stream",
          "name": "stdout",
          "text": [
            "------Before Fair Class Balancing: Cluster 0----------\n",
            "0    5232\n",
            "3     210\n",
            "2     158\n",
            "1      88\n",
            "Name: race1, dtype: int64\n",
            "********************\n",
            "1    5232\n",
            "0    5232\n",
            "3     210\n",
            "2     158\n",
            "Name: race1, dtype: int64\n",
            "--------------------\n",
            "------Before Fair Class Balancing: Cluster 0----------\n",
            "0    4020\n",
            "1     388\n",
            "2     320\n",
            "3     235\n",
            "Name: race1, dtype: int64\n",
            "********************\n",
            "3    4020\n",
            "0    4020\n",
            "1     388\n",
            "2     320\n",
            "Name: race1, dtype: int64\n",
            "--------------------\n",
            "------Before Fair Class Balancing: Cluster 0----------\n",
            "0    2869\n",
            "3     132\n",
            "2      54\n",
            "1      17\n",
            "Name: race1, dtype: int64\n",
            "********************\n",
            "1    2869\n",
            "0    2869\n",
            "3     132\n",
            "2      54\n",
            "Name: race1, dtype: int64\n",
            "--------------------\n",
            "------Before Fair Class Balancing: Cluster 0----------\n",
            "0    912\n",
            "1    703\n",
            "2    267\n",
            "3     99\n",
            "Name: race1, dtype: int64\n",
            "********************\n",
            "3    912\n",
            "0    912\n",
            "1    703\n",
            "2    267\n",
            "Name: race1, dtype: int64\n",
            "--------------------\n",
            "------Before Fair Class Balancing: Cluster 0----------\n",
            "0    5683\n",
            "2     228\n",
            "3     221\n",
            "1     147\n",
            "Name: race1, dtype: int64\n",
            "********************\n",
            "1    5683\n",
            "0    5683\n",
            "2     228\n",
            "3     221\n",
            "Name: race1, dtype: int64\n",
            "--------------------\n"
          ]
        }
      ]
    },
    {
      "cell_type": "code",
      "metadata": {
        "colab": {
          "base_uri": "https://localhost:8080/"
        },
        "id": "zIxTUfSk-59Z",
        "outputId": "f5640f7e-25fd-4586-f8aa-eb0f13ea84c1"
      },
      "source": [
        "print('Original Dataset : ',dataset_orig.shape)\n",
        "print('Smote Dataset : ',smoteCluster.shape)"
      ],
      "execution_count": null,
      "outputs": [
        {
          "output_type": "stream",
          "name": "stdout",
          "text": [
            "Original Dataset :  (21983, 8)\n",
            "Smote Dataset :  (40113, 8)\n"
          ]
        }
      ]
    },
    {
      "cell_type": "code",
      "metadata": {
        "colab": {
          "base_uri": "https://localhost:8080/"
        },
        "id": "pIVRDCoK_cNA",
        "outputId": "ab60a708-5d5f-44fa-a039-e26e346723ce"
      },
      "source": [
        "smoteCluster['race1'].value_counts()"
      ],
      "execution_count": null,
      "outputs": [
        {
          "output_type": "execute_result",
          "data": {
            "text/plain": [
              "0    18716\n",
              "1    14875\n",
              "3     5495\n",
              "2     1027\n",
              "Name: race1, dtype: int64"
            ]
          },
          "metadata": {},
          "execution_count": 81
        }
      ]
    },
    {
      "cell_type": "code",
      "metadata": {
        "colab": {
          "base_uri": "https://localhost:8080/"
        },
        "id": "XtqBkJYS_kr-",
        "outputId": "005389f5-5731-4b82-dc79-1b54ea7d53ea"
      },
      "source": [
        "dataset_orig['race1'].value_counts()"
      ],
      "execution_count": null,
      "outputs": [
        {
          "output_type": "execute_result",
          "data": {
            "text/plain": [
              "0    18716\n",
              "1     1343\n",
              "2     1027\n",
              "3      897\n",
              "Name: race1, dtype: int64"
            ]
          },
          "metadata": {},
          "execution_count": 82
        }
      ]
    },
    {
      "cell_type": "code",
      "metadata": {
        "id": "sDVotODtznMV"
      },
      "source": [
        "import statistics\n",
        "ugpa = list(smoteCluster['ugpa'].values)\n",
        "average = sum(ugpa) / len(ugpa)\n",
        "median = statistics.median(ugpa)\n",
        "average_res = []\n",
        "median_res = []\n",
        "\n",
        "for entry in ugpa:\n",
        "  if entry > average:average_res.append(1)\n",
        "  else:average_res.append(0)\n",
        "  if entry > median : median_res.append(1)\n",
        "  else:median_res.append(0)\n",
        "\n",
        "#smoteCluster['Mean UGPA'] = average_res\n",
        "#smoteCluster['Median UGPA'] = median_res"
      ],
      "execution_count": null,
      "outputs": []
    },
    {
      "cell_type": "code",
      "metadata": {
        "colab": {
          "base_uri": "https://localhost:8080/"
        },
        "id": "sJJRb2zA04qJ",
        "outputId": "b34be65a-e6dc-4bf9-e007-7ef111e70327"
      },
      "source": [
        ""
      ],
      "execution_count": null,
      "outputs": [
        {
          "output_type": "stream",
          "name": "stdout",
          "text": [
            "3.1\n"
          ]
        }
      ]
    },
    {
      "cell_type": "markdown",
      "metadata": {
        "id": "V1rLcjnYus6Q"
      },
      "source": [
        "# Saving the dataset into CSV"
      ]
    },
    {
      "cell_type": "code",
      "metadata": {
        "id": "3zHNgDgB_6v-",
        "colab": {
          "base_uri": "https://localhost:8080/",
          "height": 17
        },
        "outputId": "d06e1b5b-dbc5-4330-c7a3-77f91f0dbeac"
      },
      "source": [
        "smoteCluster.to_csv('Final Fair Class Balancing.csv', sep='\\t')\n",
        "files.download(\"Final Fair Class Balancing.csv\")"
      ],
      "execution_count": null,
      "outputs": [
        {
          "output_type": "display_data",
          "data": {
            "application/javascript": [
              "\n",
              "    async function download(id, filename, size) {\n",
              "      if (!google.colab.kernel.accessAllowed) {\n",
              "        return;\n",
              "      }\n",
              "      const div = document.createElement('div');\n",
              "      const label = document.createElement('label');\n",
              "      label.textContent = `Downloading \"${filename}\": `;\n",
              "      div.appendChild(label);\n",
              "      const progress = document.createElement('progress');\n",
              "      progress.max = size;\n",
              "      div.appendChild(progress);\n",
              "      document.body.appendChild(div);\n",
              "\n",
              "      const buffers = [];\n",
              "      let downloaded = 0;\n",
              "\n",
              "      const channel = await google.colab.kernel.comms.open(id);\n",
              "      // Send a message to notify the kernel that we're ready.\n",
              "      channel.send({})\n",
              "\n",
              "      for await (const message of channel.messages) {\n",
              "        // Send a message to notify the kernel that we're ready.\n",
              "        channel.send({})\n",
              "        if (message.buffers) {\n",
              "          for (const buffer of message.buffers) {\n",
              "            buffers.push(buffer);\n",
              "            downloaded += buffer.byteLength;\n",
              "            progress.value = downloaded;\n",
              "          }\n",
              "        }\n",
              "      }\n",
              "      const blob = new Blob(buffers, {type: 'application/binary'});\n",
              "      const a = document.createElement('a');\n",
              "      a.href = window.URL.createObjectURL(blob);\n",
              "      a.download = filename;\n",
              "      div.appendChild(a);\n",
              "      a.click();\n",
              "      div.remove();\n",
              "    }\n",
              "  "
            ],
            "text/plain": [
              "<IPython.core.display.Javascript object>"
            ]
          },
          "metadata": {}
        },
        {
          "output_type": "display_data",
          "data": {
            "application/javascript": [
              "download(\"download_c95e2ede-ec8e-4181-9d7c-1cb8d7019be9\", \"Final Fair Class Balancing.csv\", 3327252)"
            ],
            "text/plain": [
              "<IPython.core.display.Javascript object>"
            ]
          },
          "metadata": {}
        }
      ]
    },
    {
      "cell_type": "code",
      "metadata": {
        "colab": {
          "base_uri": "https://localhost:8080/"
        },
        "id": "RUJTqTdUbtfW",
        "outputId": "2808e20c-c2e6-4634-9677-9e21a3f908e4"
      },
      "source": [
        "# Load the Drive helper and mount\n",
        "from google.colab import drive\n",
        "drive.mount('/content/drive')"
      ],
      "execution_count": null,
      "outputs": [
        {
          "output_type": "stream",
          "name": "stdout",
          "text": [
            "Drive already mounted at /content/drive; to attempt to forcibly remount, call drive.mount(\"/content/drive\", force_remount=True).\n"
          ]
        }
      ]
    },
    {
      "cell_type": "code",
      "metadata": {
        "colab": {
          "base_uri": "https://localhost:8080/"
        },
        "id": "Tiz5EZ-pfH4t",
        "outputId": "a4ce3703-3f41-4825-8a1f-c8a77a56a6d3"
      },
      "source": [
        "cd /content/drive/Shareddrives/622 - Privacy/Project Codebase"
      ],
      "execution_count": null,
      "outputs": [
        {
          "output_type": "stream",
          "name": "stdout",
          "text": [
            "/content/drive/Shareddrives/622 - Privacy/Project Codebase\n"
          ]
        }
      ]
    },
    {
      "cell_type": "code",
      "metadata": {
        "colab": {
          "base_uri": "https://localhost:8080/",
          "height": 206
        },
        "id": "dgFq5ZCSb8Uj",
        "outputId": "39dcee74-93f5-455a-d768-aa5af15b76d3"
      },
      "source": [
        "smoteCluster = pd.read_csv('CSV Data/Final Fair Class Balancing.csv',sep = '\\t')\n",
        "smoteCluster.head()"
      ],
      "execution_count": null,
      "outputs": [
        {
          "output_type": "execute_result",
          "data": {
            "text/html": [
              "<div>\n",
              "<style scoped>\n",
              "    .dataframe tbody tr th:only-of-type {\n",
              "        vertical-align: middle;\n",
              "    }\n",
              "\n",
              "    .dataframe tbody tr th {\n",
              "        vertical-align: top;\n",
              "    }\n",
              "\n",
              "    .dataframe thead th {\n",
              "        text-align: right;\n",
              "    }\n",
              "</style>\n",
              "<table border=\"1\" class=\"dataframe\">\n",
              "  <thead>\n",
              "    <tr style=\"text-align: right;\">\n",
              "      <th></th>\n",
              "      <th>Unnamed: 0</th>\n",
              "      <th>dnn_bar_pass_prediction</th>\n",
              "      <th>gender</th>\n",
              "      <th>lsat</th>\n",
              "      <th>pass_bar</th>\n",
              "      <th>race1</th>\n",
              "      <th>ugpa</th>\n",
              "      <th>clusters</th>\n",
              "      <th>thresholdDistance</th>\n",
              "    </tr>\n",
              "  </thead>\n",
              "  <tbody>\n",
              "    <tr>\n",
              "      <th>0</th>\n",
              "      <td>3</td>\n",
              "      <td>0.979804</td>\n",
              "      <td>1.0</td>\n",
              "      <td>39.0</td>\n",
              "      <td>1.0</td>\n",
              "      <td>0</td>\n",
              "      <td>3.5</td>\n",
              "      <td>0</td>\n",
              "      <td>1.463009</td>\n",
              "    </tr>\n",
              "    <tr>\n",
              "      <th>1</th>\n",
              "      <td>5</td>\n",
              "      <td>0.979804</td>\n",
              "      <td>0.0</td>\n",
              "      <td>40.0</td>\n",
              "      <td>1.0</td>\n",
              "      <td>0</td>\n",
              "      <td>3.5</td>\n",
              "      <td>0</td>\n",
              "      <td>0.723836</td>\n",
              "    </tr>\n",
              "    <tr>\n",
              "      <th>2</th>\n",
              "      <td>7</td>\n",
              "      <td>0.979804</td>\n",
              "      <td>1.0</td>\n",
              "      <td>40.0</td>\n",
              "      <td>1.0</td>\n",
              "      <td>0</td>\n",
              "      <td>3.5</td>\n",
              "      <td>0</td>\n",
              "      <td>0.600363</td>\n",
              "    </tr>\n",
              "    <tr>\n",
              "      <th>3</th>\n",
              "      <td>8</td>\n",
              "      <td>0.979804</td>\n",
              "      <td>1.0</td>\n",
              "      <td>40.0</td>\n",
              "      <td>1.0</td>\n",
              "      <td>0</td>\n",
              "      <td>3.5</td>\n",
              "      <td>0</td>\n",
              "      <td>0.600363</td>\n",
              "    </tr>\n",
              "    <tr>\n",
              "      <th>4</th>\n",
              "      <td>14</td>\n",
              "      <td>0.979804</td>\n",
              "      <td>1.0</td>\n",
              "      <td>42.0</td>\n",
              "      <td>1.0</td>\n",
              "      <td>0</td>\n",
              "      <td>3.5</td>\n",
              "      <td>0</td>\n",
              "      <td>1.673476</td>\n",
              "    </tr>\n",
              "  </tbody>\n",
              "</table>\n",
              "</div>"
            ],
            "text/plain": [
              "   Unnamed: 0  dnn_bar_pass_prediction  ...  clusters  thresholdDistance\n",
              "0           3                 0.979804  ...         0           1.463009\n",
              "1           5                 0.979804  ...         0           0.723836\n",
              "2           7                 0.979804  ...         0           0.600363\n",
              "3           8                 0.979804  ...         0           0.600363\n",
              "4          14                 0.979804  ...         0           1.673476\n",
              "\n",
              "[5 rows x 9 columns]"
            ]
          },
          "metadata": {},
          "execution_count": 92
        }
      ]
    },
    {
      "cell_type": "code",
      "metadata": {
        "colab": {
          "base_uri": "https://localhost:8080/"
        },
        "id": "Mr-aTwzkfuSC",
        "outputId": "8cf185bc-14d8-4c22-fb5e-504827ca7a28"
      },
      "source": [
        "race_oneHot = pd.get_dummies(smoteCluster.race1, prefix='race')\n",
        "print(race_oneHot.head())"
      ],
      "execution_count": null,
      "outputs": [
        {
          "output_type": "stream",
          "name": "stdout",
          "text": [
            "   race_0  race_1  race_2  race_3\n",
            "0       1       0       0       0\n",
            "1       1       0       0       0\n",
            "2       1       0       0       0\n",
            "3       1       0       0       0\n",
            "4       1       0       0       0\n"
          ]
        }
      ]
    },
    {
      "cell_type": "code",
      "metadata": {
        "colab": {
          "base_uri": "https://localhost:8080/",
          "height": 206
        },
        "id": "fYyLk6sIf8-4",
        "outputId": "e7421949-fa6a-41c7-b795-05625ce8aeb6"
      },
      "source": [
        "#smoteCluster = smoteCluster.drop('race1',axis = 1)\n",
        "smoteCluster = smoteCluster.join(race_oneHot)\n",
        "smoteCluster = smoteCluster.drop('clusters', 1)\n",
        "smoteCluster.head()"
      ],
      "execution_count": null,
      "outputs": [
        {
          "output_type": "execute_result",
          "data": {
            "text/html": [
              "<div>\n",
              "<style scoped>\n",
              "    .dataframe tbody tr th:only-of-type {\n",
              "        vertical-align: middle;\n",
              "    }\n",
              "\n",
              "    .dataframe tbody tr th {\n",
              "        vertical-align: top;\n",
              "    }\n",
              "\n",
              "    .dataframe thead th {\n",
              "        text-align: right;\n",
              "    }\n",
              "</style>\n",
              "<table border=\"1\" class=\"dataframe\">\n",
              "  <thead>\n",
              "    <tr style=\"text-align: right;\">\n",
              "      <th></th>\n",
              "      <th>Unnamed: 0</th>\n",
              "      <th>dnn_bar_pass_prediction</th>\n",
              "      <th>gender</th>\n",
              "      <th>lsat</th>\n",
              "      <th>pass_bar</th>\n",
              "      <th>race1</th>\n",
              "      <th>ugpa</th>\n",
              "      <th>thresholdDistance</th>\n",
              "      <th>race_0</th>\n",
              "      <th>race_1</th>\n",
              "      <th>race_2</th>\n",
              "      <th>race_3</th>\n",
              "    </tr>\n",
              "  </thead>\n",
              "  <tbody>\n",
              "    <tr>\n",
              "      <th>0</th>\n",
              "      <td>3</td>\n",
              "      <td>0.979804</td>\n",
              "      <td>1.0</td>\n",
              "      <td>39.0</td>\n",
              "      <td>1.0</td>\n",
              "      <td>0</td>\n",
              "      <td>3.5</td>\n",
              "      <td>1.463009</td>\n",
              "      <td>1</td>\n",
              "      <td>0</td>\n",
              "      <td>0</td>\n",
              "      <td>0</td>\n",
              "    </tr>\n",
              "    <tr>\n",
              "      <th>1</th>\n",
              "      <td>5</td>\n",
              "      <td>0.979804</td>\n",
              "      <td>0.0</td>\n",
              "      <td>40.0</td>\n",
              "      <td>1.0</td>\n",
              "      <td>0</td>\n",
              "      <td>3.5</td>\n",
              "      <td>0.723836</td>\n",
              "      <td>1</td>\n",
              "      <td>0</td>\n",
              "      <td>0</td>\n",
              "      <td>0</td>\n",
              "    </tr>\n",
              "    <tr>\n",
              "      <th>2</th>\n",
              "      <td>7</td>\n",
              "      <td>0.979804</td>\n",
              "      <td>1.0</td>\n",
              "      <td>40.0</td>\n",
              "      <td>1.0</td>\n",
              "      <td>0</td>\n",
              "      <td>3.5</td>\n",
              "      <td>0.600363</td>\n",
              "      <td>1</td>\n",
              "      <td>0</td>\n",
              "      <td>0</td>\n",
              "      <td>0</td>\n",
              "    </tr>\n",
              "    <tr>\n",
              "      <th>3</th>\n",
              "      <td>8</td>\n",
              "      <td>0.979804</td>\n",
              "      <td>1.0</td>\n",
              "      <td>40.0</td>\n",
              "      <td>1.0</td>\n",
              "      <td>0</td>\n",
              "      <td>3.5</td>\n",
              "      <td>0.600363</td>\n",
              "      <td>1</td>\n",
              "      <td>0</td>\n",
              "      <td>0</td>\n",
              "      <td>0</td>\n",
              "    </tr>\n",
              "    <tr>\n",
              "      <th>4</th>\n",
              "      <td>14</td>\n",
              "      <td>0.979804</td>\n",
              "      <td>1.0</td>\n",
              "      <td>42.0</td>\n",
              "      <td>1.0</td>\n",
              "      <td>0</td>\n",
              "      <td>3.5</td>\n",
              "      <td>1.673476</td>\n",
              "      <td>1</td>\n",
              "      <td>0</td>\n",
              "      <td>0</td>\n",
              "      <td>0</td>\n",
              "    </tr>\n",
              "  </tbody>\n",
              "</table>\n",
              "</div>"
            ],
            "text/plain": [
              "   Unnamed: 0  dnn_bar_pass_prediction  gender  ...  race_1  race_2  race_3\n",
              "0           3                 0.979804     1.0  ...       0       0       0\n",
              "1           5                 0.979804     0.0  ...       0       0       0\n",
              "2           7                 0.979804     1.0  ...       0       0       0\n",
              "3           8                 0.979804     1.0  ...       0       0       0\n",
              "4          14                 0.979804     1.0  ...       0       0       0\n",
              "\n",
              "[5 rows x 12 columns]"
            ]
          },
          "metadata": {},
          "execution_count": 94
        }
      ]
    },
    {
      "cell_type": "code",
      "metadata": {
        "id": "ySM91fUqAMwR",
        "colab": {
          "base_uri": "https://localhost:8080/"
        },
        "outputId": "f68590a7-1921-4f9b-952d-3eb0a0e5223c"
      },
      "source": [
        "# smoteCluster = smoteCluster.drop('race1', 1)\n",
        "X = smoteCluster.iloc[:,smoteCluster.columns != 'ugpa']\n",
        "Y = smoteCluster['ugpa']\n",
        "X_train, X_test, Y_train, Y_test = train_test_split(X, Y, test_size=0.2, random_state= 0)\n",
        "\n",
        "model = linear_model.LinearRegression()\n",
        "model.fit(X_train, Y_train)\n",
        "y_pred = model.predict(X_test)\n",
        "\n",
        "rmsd = np.sqrt(mean_squared_error(Y_test, y_pred))      \n",
        "r2_value = r2_score(Y_test, y_pred)                     \n",
        "\n",
        "print(\"Intercept (with race):\", model.intercept_)\n",
        "print('-'*50)\n",
        "print(\"Root Mean Square Error (with race):\", rmsd)\n",
        "print('-'*50)\n",
        "print(\"R^2 Value (with race):\", r2_value)\n",
        "print('-'*50)\n",
        "\n",
        "bgl = BoundedGroupLoss(ZeroOneLoss(), upper_bound=0.1)\n",
        "sensitive_features = np.array(list(X_test['race1'].values))\n",
        "mae_frame = MetricFrame(mean_absolute_error,\n",
        "                        Y_test, y_pred,\n",
        "                        sensitive_features=pd.Series(sensitive_features, name=\"SF 0\"))\n",
        "print('Bounder Group Loss (with race)  : ',mae_frame.overall)\n",
        "print('-'*50)\n",
        "averageCounter = 0\n",
        "medianCounter = 0\n",
        "for entry in y_pred:\n",
        "  if entry > average : averageCounter+=1\n",
        "  if entry > median : medianCounter+=1\n",
        "print('Probability of Y=1 (mean) given race : ', averageCounter/len(y_pred))\n",
        "print('-'*50)\n",
        "print('Probability of Y=1 (median) given race : ', medianCounter/len(y_pred))\n",
        "print('-'*50)"
      ],
      "execution_count": null,
      "outputs": [
        {
          "output_type": "stream",
          "name": "stdout",
          "text": [
            "Intercept (with race): 0.13081474629061063\n",
            "--------------------------------------------------\n",
            "Root Mean Square Error (with race): 0.3582021063080671\n",
            "--------------------------------------------------\n",
            "R^2 Value (with race): 0.8720581557197729\n",
            "--------------------------------------------------\n",
            "Bounder Group Loss (with race)  :  0.2875403823055883\n",
            "--------------------------------------------------\n",
            "Probability of Y=1 (mean) given race :  0.3327932194939549\n",
            "--------------------------------------------------\n",
            "Probability of Y=1 (median) given race :  0.38028169014084506\n",
            "--------------------------------------------------\n"
          ]
        },
        {
          "output_type": "stream",
          "name": "stderr",
          "text": [
            "/usr/local/lib/python3.7/dist-packages/fairlearn/metrics/_metric_frame.py:67: FutureWarning: You have provided 'metrics', 'y_true', 'y_pred' as positional arguments. Please pass them as keyword arguments. From version 0.10.0 passing them as positional arguments will result in an error.\n",
            "  FutureWarning)\n"
          ]
        }
      ]
    },
    {
      "cell_type": "code",
      "metadata": {
        "colab": {
          "base_uri": "https://localhost:8080/"
        },
        "id": "myUkOtp504PO",
        "outputId": "ab875061-0fea-46a5-d41f-4742d6c1eff1"
      },
      "source": [
        "#smoteCluster = smoteCluster.drop('clusters', 1)\n",
        "smoteCluster = smoteCluster.drop(['race_1','race_2','race_3'], 1)\n",
        "X = smoteCluster.iloc[:,smoteCluster.columns != 'ugpa']\n",
        "Y = smoteCluster['ugpa']\n",
        "X_train, X_test, Y_train, Y_test = train_test_split(X, Y, test_size=0.2, random_state= 0)\n",
        "\n",
        "X_train = X_train.drop(['race1'],1)\n",
        "race1 = list(X_test.race1.values)\n",
        "X_test = X_test.drop(['race1'],1)\n",
        "\n",
        "model = linear_model.LinearRegression()\n",
        "model.fit(X_train, Y_train)\n",
        "y_pred = model.predict(X_test)\n",
        "\n",
        "rmsd = np.sqrt(mean_squared_error(Y_test, y_pred))      \n",
        "r2_value = r2_score(Y_test, y_pred)                     \n",
        "\n",
        "print(\"Intercept (without race):\", model.intercept_)\n",
        "print('-'*50)\n",
        "print(\"Root Mean Square Error (without race):\", rmsd)\n",
        "print('-'*50)\n",
        "print(\"R^2 Value (without race):\", r2_value)\n",
        "print('-'*50)\n",
        "\n",
        "bgl = BoundedGroupLoss(ZeroOneLoss(), upper_bound=0.1)\n",
        "sensitive_features = np.array(race1)\n",
        "mae_frame = MetricFrame(mean_absolute_error,\n",
        "                        Y_test, y_pred,\n",
        "                        sensitive_features=pd.Series(sensitive_features, name=\"SF 0\"))\n",
        "print('Bounder Group Loss (without race)  : ',mae_frame.overall)\n",
        "print('-'*50)\n",
        "averageCounter = 0\n",
        "medianCounter = 0\n",
        "for entry in y_pred:\n",
        "  if entry > average : averageCounter+=1\n",
        "  if entry > median : medianCounter+=1\n",
        "print('Probability of Y=1 (mean) without race : ', averageCounter/len(y_pred))\n",
        "print('-'*50)\n",
        "print('Probability of Y=1 (median) without race : ', medianCounter/len(y_pred))\n",
        "print('-'*50)\n"
      ],
      "execution_count": null,
      "outputs": [
        {
          "output_type": "stream",
          "name": "stdout",
          "text": [
            "Intercept (without race): -0.03875241213268721\n",
            "--------------------------------------------------\n",
            "Root Mean Square Error (without race): 0.36033923617406205\n",
            "--------------------------------------------------\n",
            "R^2 Value (without race): 0.8705269307208227\n",
            "--------------------------------------------------\n",
            "Bounder Group Loss (without race)  :  0.2902115996764951\n",
            "--------------------------------------------------\n",
            "Probability of Y=1 (mean) without race :  0.33491212763305495\n",
            "--------------------------------------------------\n",
            "Probability of Y=1 (median) without race :  0.3805309734513274\n",
            "--------------------------------------------------\n"
          ]
        },
        {
          "output_type": "stream",
          "name": "stderr",
          "text": [
            "/usr/local/lib/python3.7/dist-packages/fairlearn/metrics/_metric_frame.py:67: FutureWarning: You have provided 'metrics', 'y_true', 'y_pred' as positional arguments. Please pass them as keyword arguments. From version 0.10.0 passing them as positional arguments will result in an error.\n",
            "  FutureWarning)\n"
          ]
        }
      ]
    },
    {
      "cell_type": "code",
      "metadata": {
        "id": "mLjSOeLdnFHe",
        "colab": {
          "base_uri": "https://localhost:8080/"
        },
        "outputId": "d12d71ea-2274-4736-8392-e1395145534c"
      },
      "source": [
        "# Vanilla Smote Example\n",
        "from imblearn.over_sampling import SMOTE\n",
        "smote = SMOTE()\n",
        "_DATA_PATH = 'https://storage.googleapis.com/lawschool_dataset/bar_pass_prediction.csv'\n",
        "data = urllib.request.urlopen(_DATA_PATH)\n",
        "_LSAT_DF = pd.read_csv(data)\n",
        "_COLUMN_NAMES = [\n",
        "  'dnn_bar_pass_prediction',\n",
        "  'gender',\n",
        "  'lsat',\n",
        "  'pass_bar',\n",
        "  'race1',\n",
        "  'ugpa',\n",
        "]\n",
        "_LSAT_DF.dropna()\n",
        "_LSAT_DF['gender'] = _LSAT_DF['gender'].astype(str)\n",
        "_LSAT_DF['race1'] = _LSAT_DF['race1'].astype(str)\n",
        "df = _LSAT_DF[_COLUMN_NAMES]\n",
        "dataset_orig = df\n",
        "dataset_orig = dataset_orig.dropna()\n",
        "dataset_orig =  dataset_orig[(dataset_orig.race1 == 'white') | (dataset_orig.race1 == 'black')|(dataset_orig.race1 == 'hisp')|(dataset_orig.race1 == 'asian')]\n",
        "\n",
        "dataset_orig['gender'] = np.where(dataset_orig['gender'] == 'male', 1, 0)\n",
        "races = list(dataset_orig['race1'].values)\n",
        "numRaces = []\n",
        "for race in races:\n",
        "  if race == \"white\":numRaces.append(0)\n",
        "  elif race == \"black\" : numRaces.append(1)\n",
        "  elif race == \"hisp\" : numRaces.append(2)\n",
        "  elif race == \"asian\" : numRaces.append(3)\n",
        "\n",
        "\n",
        "dataset_orig['race1'] = numRaces\n",
        "dataset_orig['race1'].value_counts()\n",
        "\n",
        "race_oneHot = pd.get_dummies(smoteCluster.race1, prefix='race')\n",
        "dataset_orig = dataset_orig.join(race_oneHot)\n",
        "#dataset_orig = dataset_orig.drop('clusters', 1)\n",
        "\n",
        "X = dataset_orig.iloc[:,dataset_orig.columns != 'race1']\n",
        "Y = dataset_orig['race1']\n",
        "X_train, X_test, Y_train, Y_test = train_test_split(X, Y, test_size=0.2, random_state= 0)\n",
        "X_train_smote,y_train_smote = smote.fit_resample(X_train,Y_train)\n",
        "\n",
        "dataSmote = pd.DataFrame()\n",
        "dataSmote = X_train_smote\n",
        "dataSmote['race1'] = y_train_smote\n",
        "dataSmote.head()\n",
        "print(dataset_orig.shape)\n",
        "print(dataSmote.shape)\n",
        "\n",
        "import statistics\n",
        "ugpa = list(dataSmote['ugpa'].values)\n",
        "average = sum(ugpa) / len(ugpa)\n",
        "median = statistics.median(ugpa)\n",
        "\n",
        "X = dataSmote.iloc[:,dataSmote.columns != 'ugpa']\n",
        "Y = dataSmote['ugpa']\n",
        "X_train, X_test, Y_train, Y_test = train_test_split(X, Y, test_size=0.2, random_state= 0)\n",
        "\n",
        "model = linear_model.LinearRegression()\n",
        "model.fit(X_train, Y_train)\n",
        "y_pred = model.predict(X_test)\n",
        "\n",
        "rmsd = np.sqrt(mean_squared_error(Y_test, y_pred))      \n",
        "r2_value = r2_score(Y_test, y_pred)                     \n",
        "\n",
        "print(\"Intercept (with race):\", model.intercept_)\n",
        "print('-'*50)\n",
        "print(\"Root Mean Square Error (with race):\", rmsd)\n",
        "print('-'*50)\n",
        "print(\"R^2 Value (with race):\", r2_value)\n",
        "print('-'*50)\n",
        "\n",
        "bgl = BoundedGroupLoss(ZeroOneLoss(), upper_bound=0.1)\n",
        "sensitive_features = np.array(list(X_test['race1'].values))\n",
        "mae_frame = MetricFrame(mean_absolute_error,\n",
        "                        Y_test, y_pred,\n",
        "                        sensitive_features=pd.Series(sensitive_features, name=\"SF 0\"))\n",
        "print('Bounder Group Loss (with race)  : ',mae_frame.overall)\n",
        "print('-'*50)\n",
        "\n",
        "averageCounter = 0\n",
        "medianCounter = 0\n",
        "for entry in y_pred:\n",
        "  if entry > average : averageCounter+=1\n",
        "  if entry > median : medianCounter+=1\n",
        "print('Probability of Y=1 (mean) given race : ', averageCounter/len(y_pred))\n",
        "print('-'*50)\n",
        "print('Probability of Y=1 (median) given race : ', medianCounter/len(y_pred))\n",
        "print('-'*50)"
      ],
      "execution_count": null,
      "outputs": [
        {
          "output_type": "stream",
          "name": "stdout",
          "text": [
            "(21983, 10)\n",
            "(59908, 10)\n",
            "Intercept (with race): -8.650697658348879\n",
            "--------------------------------------------------\n",
            "Root Mean Square Error (with race): 0.2705472627253678\n",
            "--------------------------------------------------\n",
            "R^2 Value (with race): 0.5478266467903112\n",
            "--------------------------------------------------\n",
            "Bounder Group Loss (with race)  :  0.217756882328121\n",
            "--------------------------------------------------\n",
            "Probability of Y=1 (mean) given race :  0.5679352361876148\n",
            "--------------------------------------------------\n",
            "Probability of Y=1 (median) given race :  0.5982306793523618\n",
            "--------------------------------------------------\n"
          ]
        },
        {
          "output_type": "stream",
          "name": "stderr",
          "text": [
            "/usr/local/lib/python3.7/dist-packages/fairlearn/metrics/_metric_frame.py:67: FutureWarning: You have provided 'metrics', 'y_true', 'y_pred' as positional arguments. Please pass them as keyword arguments. From version 0.10.0 passing them as positional arguments will result in an error.\n",
            "  FutureWarning)\n"
          ]
        }
      ]
    },
    {
      "cell_type": "code",
      "metadata": {
        "colab": {
          "base_uri": "https://localhost:8080/"
        },
        "id": "G9bdyMxXCKT3",
        "outputId": "6ec3cd95-ccd5-4daf-e9d3-6b705be345a0"
      },
      "source": [
        "#smoteCluster = smoteCluster.drop('clusters', 1)\n",
        "dataSmote = dataSmote.drop(['race_1','race_2','race_3'], 1)\n",
        "X = dataSmote.iloc[:,dataSmote.columns != 'ugpa']\n",
        "Y = dataSmote['ugpa']\n",
        "X_train, X_test, Y_train, Y_test = train_test_split(X, Y, test_size=0.2, random_state= 0)\n",
        "\n",
        "X_train = X_train.drop(['race1'],1)\n",
        "race1 = list(X_test.race1.values)\n",
        "X_test = X_test.drop(['race1'],1)\n",
        "\n",
        "model = linear_model.LinearRegression()\n",
        "model.fit(X_train, Y_train)\n",
        "y_pred = model.predict(X_test)\n",
        "\n",
        "rmsd = np.sqrt(mean_squared_error(Y_test, y_pred))      \n",
        "r2_value = r2_score(Y_test, y_pred)                     \n",
        "\n",
        "print(\"Intercept (without race):\", model.intercept_)\n",
        "print('-'*50)\n",
        "print(\"Root Mean Square Error (without race):\", rmsd)\n",
        "print('-'*50)\n",
        "print(\"R^2 Value (without race):\", r2_value)\n",
        "print('-'*50)\n",
        "\n",
        "bgl = BoundedGroupLoss(ZeroOneLoss(), upper_bound=0.1)\n",
        "sensitive_features = np.array(race1)\n",
        "mae_frame = MetricFrame(mean_absolute_error,\n",
        "                        Y_test, y_pred,\n",
        "                        sensitive_features=pd.Series(sensitive_features, name=\"SF 0\"))\n",
        "print('Bounder Group Loss (without race)  : ',mae_frame.overall)\n",
        "print('-'*50)\n",
        "averageCounter = 0\n",
        "medianCounter = 0\n",
        "for entry in y_pred:\n",
        "  if entry > average : averageCounter+=1\n",
        "  if entry > median : medianCounter+=1\n",
        "print('Probability of Y=1 (mean) without race : ', averageCounter/len(y_pred))\n",
        "print('-'*50)\n",
        "print('Probability of Y=1 (median) without race : ', medianCounter/len(y_pred))\n",
        "print('-'*50)\n"
      ],
      "execution_count": null,
      "outputs": [
        {
          "output_type": "stream",
          "name": "stdout",
          "text": [
            "Intercept (without race): -8.778572471965857\n",
            "--------------------------------------------------\n",
            "Root Mean Square Error (without race): 0.27353154461748197\n",
            "--------------------------------------------------\n",
            "R^2 Value (without race): 0.5377961987954212\n",
            "--------------------------------------------------\n",
            "Bounder Group Loss (without race)  :  0.21872165993557416\n",
            "--------------------------------------------------\n",
            "Probability of Y=1 (mean) without race :  0.5724419963278251\n",
            "--------------------------------------------------\n",
            "Probability of Y=1 (median) without race :  0.6069938240694375\n",
            "--------------------------------------------------\n"
          ]
        },
        {
          "output_type": "stream",
          "name": "stderr",
          "text": [
            "/usr/local/lib/python3.7/dist-packages/fairlearn/metrics/_metric_frame.py:67: FutureWarning: You have provided 'metrics', 'y_true', 'y_pred' as positional arguments. Please pass them as keyword arguments. From version 0.10.0 passing them as positional arguments will result in an error.\n",
            "  FutureWarning)\n"
          ]
        }
      ]
    },
    {
      "cell_type": "code",
      "metadata": {
        "id": "pSKRL4PL7_Sr"
      },
      "source": [
        ""
      ],
      "execution_count": null,
      "outputs": []
    }
  ]
}